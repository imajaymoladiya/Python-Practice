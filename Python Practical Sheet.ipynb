{
 "cells": [
  {
   "cell_type": "markdown",
   "id": "7ceb7a7a",
   "metadata": {},
   "source": [
    "# Programs on if statement"
   ]
  },
  {
   "cell_type": "markdown",
   "id": "067a98db",
   "metadata": {},
   "source": [
    "**1. Write a program to perform addition of two numbers.**"
   ]
  },
  {
   "cell_type": "code",
   "execution_count": 2,
   "id": "d9fc9a44",
   "metadata": {},
   "outputs": [
    {
     "name": "stdout",
     "output_type": "stream",
     "text": [
      "Addition of 10 and 5 is 15\n"
     ]
    }
   ],
   "source": [
    "num1 = 10\n",
    "num2 = 5\n",
    "\n",
    "addition = num1 + num2\n",
    "\n",
    "print('Addition of {} and {} is'.format(num1,num2),addition)"
   ]
  },
  {
   "cell_type": "markdown",
   "id": "97dbb393",
   "metadata": {},
   "source": [
    "**2. Write a program to perform subtraction of two numbers.**"
   ]
  },
  {
   "cell_type": "code",
   "execution_count": 3,
   "id": "c2ac0a15",
   "metadata": {},
   "outputs": [
    {
     "name": "stdout",
     "output_type": "stream",
     "text": [
      "Subtraction of 10 and 5 is 5\n"
     ]
    }
   ],
   "source": [
    "num1 = 10\n",
    "num2 = 5\n",
    "\n",
    "substraction = num1 - num2\n",
    "\n",
    "print('Subtraction of {} and {} is'.format(num1,num2),substraction)"
   ]
  },
  {
   "cell_type": "markdown",
   "id": "e5f245a6",
   "metadata": {},
   "source": [
    "**3. Write a program to perform multiplication of two numbers.**"
   ]
  },
  {
   "cell_type": "code",
   "execution_count": 4,
   "id": "1cc496c1",
   "metadata": {},
   "outputs": [
    {
     "name": "stdout",
     "output_type": "stream",
     "text": [
      "Multiplication of 10 and 5 is 50\n"
     ]
    }
   ],
   "source": [
    "num1 = 10\n",
    "num2 = 5\n",
    "\n",
    "multiplication = num1 * num2\n",
    "\n",
    "print('Multiplication of {} and {} is'.format(num1,num2),multiplication)"
   ]
  },
  {
   "cell_type": "markdown",
   "id": "d3860610",
   "metadata": {},
   "source": [
    "**4. Write a program to perform division of two numbers.**"
   ]
  },
  {
   "cell_type": "code",
   "execution_count": 5,
   "id": "78efba6c",
   "metadata": {},
   "outputs": [
    {
     "name": "stdout",
     "output_type": "stream",
     "text": [
      "Division of 10 and 5 is 2.0\n"
     ]
    }
   ],
   "source": [
    "num1 = 10\n",
    "num2 = 5\n",
    "\n",
    "division = num1 / num2\n",
    "\n",
    "print('Division of {} and {} is'.format(num1,num2),division)"
   ]
  },
  {
   "cell_type": "markdown",
   "id": "d24229e5",
   "metadata": {},
   "source": [
    "**5. Write a program to perform modulo operation.**"
   ]
  },
  {
   "cell_type": "code",
   "execution_count": 6,
   "id": "111ef742",
   "metadata": {},
   "outputs": [
    {
     "name": "stdout",
     "output_type": "stream",
     "text": [
      "Modulo of 10 and 3 is 1\n"
     ]
    }
   ],
   "source": [
    "num1 = 10\n",
    "num2 = 3\n",
    "\n",
    "modulo = num1 % num2\n",
    "\n",
    "print('Modulo of {} and {} is'.format(num1,num2),modulo)"
   ]
  },
  {
   "cell_type": "markdown",
   "id": "4342458f",
   "metadata": {},
   "source": [
    "**6. Write a program explaining ternary operator.**"
   ]
  },
  {
   "cell_type": "code",
   "execution_count": 7,
   "id": "36dd3779",
   "metadata": {},
   "outputs": [
    {
     "name": "stdout",
     "output_type": "stream",
     "text": [
      "24 is Even.\n"
     ]
    }
   ],
   "source": [
    "number = 24\n",
    "\n",
    "result = \"Even\" if number % 2 == 0 else \"Odd\"\n",
    "\n",
    "print('{} is {}.'.format(number,result))"
   ]
  },
  {
   "cell_type": "markdown",
   "id": "6d4fd246",
   "metadata": {},
   "source": [
    "**7. Write simple program using increment and decrement operator.**"
   ]
  },
  {
   "cell_type": "code",
   "execution_count": 8,
   "id": "f81db7ab",
   "metadata": {},
   "outputs": [
    {
     "name": "stdout",
     "output_type": "stream",
     "text": [
      "After incrementing a = 1\n",
      "After decrementing a = -1\n"
     ]
    }
   ],
   "source": [
    "a = 0\n",
    "a += 1 #(a=a+1)\n",
    "print(\"After incrementing a =\", a)\n",
    "\n",
    "a = 0\n",
    "a -= 1 #(a=a-1)\n",
    "print(\"After decrementing a =\", a)"
   ]
  },
  {
   "cell_type": "markdown",
   "id": "4dd6d405",
   "metadata": {},
   "source": [
    "**8. Write a program to accept two integers and check whether they are equal or not.**"
   ]
  },
  {
   "cell_type": "code",
   "execution_count": 9,
   "id": "1add099e",
   "metadata": {},
   "outputs": [
    {
     "name": "stdout",
     "output_type": "stream",
     "text": [
      "Enter first integer number : 4\n",
      "Enter second integer number : 3\n",
      "\n",
      "4 and 3 is not equal\n"
     ]
    }
   ],
   "source": [
    "num1 = int(input('Enter first integer number : '))\n",
    "num2 = int(input('Enter second integer number : '))\n",
    "\n",
    "if num1 == num2:\n",
    "    print('\\n{} and {} is equal'.format(num1,num2))\n",
    "else:\n",
    "    print('\\n{} and {} is not equal'.format(num1,num2))"
   ]
  },
  {
   "cell_type": "markdown",
   "id": "7a5611fe",
   "metadata": {},
   "source": [
    "**9. Write a program to check whether a given number is positive or negative.**"
   ]
  },
  {
   "cell_type": "code",
   "execution_count": 10,
   "id": "e6da44f4",
   "metadata": {},
   "outputs": [
    {
     "name": "stdout",
     "output_type": "stream",
     "text": [
      "-2 is Negative\n"
     ]
    }
   ],
   "source": [
    "number = -2\n",
    "\n",
    "if number == 0:\n",
    "    print('Number is zero')\n",
    "else:\n",
    "    if number > 0:\n",
    "        print('{} is Positive'.format(number))\n",
    "    else:\n",
    "        print('{} is Negative'.format(number))"
   ]
  },
  {
   "cell_type": "markdown",
   "id": "7905439b",
   "metadata": {},
   "source": [
    "**10.Write a program to find whether a given year is a leap year or not.**"
   ]
  },
  {
   "cell_type": "code",
   "execution_count": 11,
   "id": "9220100f",
   "metadata": {},
   "outputs": [
    {
     "name": "stdout",
     "output_type": "stream",
     "text": [
      "Enter year : 2024\n",
      "\n",
      "2024 Year is Leap Year\n"
     ]
    }
   ],
   "source": [
    "year = int(input('Enter year : '))\n",
    "\n",
    "if year % 400 == 0 or year % 100 == 0 or year % 4 == 0:\n",
    "    print('\\n{} Year is Leap Year'.format(year))\n",
    "else:\n",
    "    print('\\n{} Year is Not Leep Year'.format(year))"
   ]
  },
  {
   "cell_type": "markdown",
   "id": "460aa4fe",
   "metadata": {},
   "source": [
    "**11. Write a program to calculate the root of a Quadratic Equation.**"
   ]
  },
  {
   "cell_type": "code",
   "execution_count": 12,
   "id": "b7d74474",
   "metadata": {},
   "outputs": [
    {
     "name": "stdout",
     "output_type": "stream",
     "text": [
      "Enter a (Please enter only number...) : 1\n",
      "Enter b (Please enter only number...) : 6\n",
      "Enter c (Please enter only number...) : 8\n",
      "\n",
      "Your Input number's is a = 1 , b = 6 , c = 8\n",
      "Your Equation is : 1x^2 + 6x + 8\n",
      "\n",
      "Alpha1 is : -2.0\n",
      "Alpha2 is : -4.0\n",
      "\n",
      "You want to exit ? (yes/no) : yes\n",
      "Thank You !!\n"
     ]
    }
   ],
   "source": [
    "from math import sqrt\n",
    "\n",
    "while True:\n",
    "    a = input('Enter a (Please enter only number...) : ')\n",
    "    b = input('Enter b (Please enter only number...) : ')\n",
    "    c = input('Enter c (Please enter only number...) : ')      \n",
    "    if a.isdigit() and b.isdigit() and c.isdigit():\n",
    "        a = int(a)\n",
    "        b = int(b)\n",
    "        c = int(c)\n",
    "        print(\"\\nYour Input number's is a = {} , b = {} , c = {}\".format(a,b,c))\n",
    "        print('Your Equation is : {}x^2 + {}x + {}'.format(a,b,c)) \n",
    "        if (b**2-4*a*c) > 0:\n",
    "            Positive_alpha = (-b + sqrt(b**2-4*a*c))/(2*a)\n",
    "            Negative_alpha = (-b - sqrt(b**2-4*a*c))/(2*a)\n",
    "            print('\\nAlpha1 is :',Positive_alpha)\n",
    "            print('Alpha2 is :',Negative_alpha)\n",
    "            exit = input('\\nYou want to exit ? (yes/no) : ')\n",
    "            if  exit == 'yes':\n",
    "                print('Thank You !!')\n",
    "                break\n",
    "            else:\n",
    "                pass\n",
    "        else:\n",
    "            print(\"\\nQuadratic Equation Value will be nagative we can't find root of the negative value...\")\n",
    "            print('Please enter different values.')\n",
    "            exit = input('\\nYou want to exit ? (yes/no) : ')\n",
    "            if  exit == 'yes':\n",
    "                print('Thank You !!')\n",
    "                break\n",
    "            else:\n",
    "                pass\n",
    "    elif a.isalpha():\n",
    "        print(\"\\nEnter Valid Number's...\")\n",
    "        exit = input('\\nYou want to exit ? (yes/no) : ')\n",
    "        if  exit == 'yes':\n",
    "            print('Thank You !!')\n",
    "            break\n",
    "        else:\n",
    "            pass\n",
    "    else:\n",
    "        print(\"\\nEnter Valid Number's...\")\n",
    "        exit = input('\\nYou want to exit ? (yes/no) : ')\n",
    "        if  exit == 'yes':\n",
    "            print('Thank You !!')\n",
    "            break\n",
    "        else:\n",
    "            pass"
   ]
  },
  {
   "cell_type": "markdown",
   "id": "c029a7f4",
   "metadata": {},
   "source": [
    "**12. Write a program to check whether a triangle can be formed by the given value for the angles.**"
   ]
  },
  {
   "cell_type": "code",
   "execution_count": 13,
   "id": "e4608e3f",
   "metadata": {},
   "outputs": [
    {
     "name": "stdout",
     "output_type": "stream",
     "text": [
      "Enter first angle: 90\n",
      "Enter second angle: 0\n",
      "Enter third angle: 90\n",
      "\n",
      "Your Input 1st angle is 90.0 degree , 2nd angle is 0.0 degree , 3rd angle is 90.0 degree\n",
      "\n",
      "Yes, a triangle can be formed with these angles.\n"
     ]
    }
   ],
   "source": [
    "first_angle = float(input(\"Enter first angle: \"))\n",
    "second_angle = float(input(\"Enter second angle: \"))\n",
    "third_angle = float(input(\"Enter third angle: \"))\n",
    "\n",
    "if first_angle == 0 and second_angle == 0 and third_angle == 0:\n",
    "    print('All zeros angle is not valid angle.')\n",
    "else:\n",
    "    total = first_angle + second_angle + third_angle\n",
    "    print('\\nYour Input 1st angle is {} degree , 2nd angle is {} degree , 3rd angle is {} degree'.format(first_angle,second_angle,third_angle))\n",
    "    if total == 180:\n",
    "        print(\"\\nYes, a triangle can be formed with these angles.\")\n",
    "    else:\n",
    "        print(\"\\nNo, a triangle cannot be formed with these angles.\")"
   ]
  },
  {
   "cell_type": "markdown",
   "id": "4046e7ba",
   "metadata": {},
   "source": [
    "**13. Write a program to check whether a character is an alphabet, digit or special character.**"
   ]
  },
  {
   "cell_type": "code",
   "execution_count": 14,
   "id": "87943187",
   "metadata": {},
   "outputs": [
    {
     "name": "stdout",
     "output_type": "stream",
     "text": [
      "\n",
      "Check Your Input is Character , Alphabet or Digit ? (Enter \"exit\" to Quite...) : a\n",
      "a is Alphabet.\n",
      "\n",
      "Check Your Input is Character , Alphabet or Digit ? (Enter \"exit\" to Quite...) : 6\n",
      "6 is Digit.\n",
      "\n",
      "Check Your Input is Character , Alphabet or Digit ? (Enter \"exit\" to Quite...) : exit\n",
      "Thank You !!\n"
     ]
    }
   ],
   "source": [
    "special_char = ['!','@','#','$','%','^','&','*','/','?','<','>','<=','>=','\"','-','+']\n",
    "\n",
    "while True:\n",
    "    character = input('\\nCheck Your Input is Character , Alphabet or Digit ? (Enter \"exit\" to Quite...) : ')\n",
    "    if character == 'exit':\n",
    "        print('Thank You !!')\n",
    "        break\n",
    "    if character in special_char:\n",
    "        print('{} is Special Character.'.format(character))\n",
    "    elif character.isdigit():\n",
    "        print('{} is Digit.'.format(character))\n",
    "    elif character.isalpha():\n",
    "        print('{} is Alphabet.'.format(character))\n",
    "    else:\n",
    "        print('Enter Valid Character...')"
   ]
  },
  {
   "cell_type": "markdown",
   "id": "ddd4c9fc",
   "metadata": {},
   "source": [
    "**14. Write a program to check whether an alphabet is a vowel or consonant.**"
   ]
  },
  {
   "cell_type": "code",
   "execution_count": 15,
   "id": "bddea77d",
   "metadata": {},
   "outputs": [
    {
     "name": "stdout",
     "output_type": "stream",
     "text": [
      "\n",
      "Check Your Input is Vowel or Consonant (Enter \"exit\" to Quite...): a\n",
      "a is Vowel.\n",
      "\n",
      "Check Your Input is Vowel or Consonant (Enter \"exit\" to Quite...): exit\n",
      "Thank you !!\n"
     ]
    }
   ],
   "source": [
    "vowel = [97, 101, 105, 111, 117]\n",
    "consonant = [98,99,100,102,103,104,106,107,108,109,110,112,113,114,115,116,118,119,120,121,122]\n",
    "\n",
    "while True:\n",
    "    new_char = input('\\nCheck Your Input is Vowel or Consonant (Enter \"exit\" to Quite...): ')\n",
    "    if new_char == 'exit':\n",
    "        print('Thank you !!')\n",
    "        break\n",
    "    if len(new_char) > 1:\n",
    "        print('Enter Valid Character...')\n",
    "    elif ord(new_char.lower()) in vowel:\n",
    "        print('{} is Vowel.'.format(new_char))\n",
    "    elif ord(new_char.lower()) in consonant:\n",
    "        print('{} is Consonant.'.format(new_char))\n",
    "    else:\n",
    "        print('Enter Valid Character...')"
   ]
  },
  {
   "cell_type": "markdown",
   "id": "8b31a090",
   "metadata": {},
   "source": [
    "**15.Write a program to check whether a triangle is Equilateral, Isosceles or Scalene.**"
   ]
  },
  {
   "cell_type": "code",
   "execution_count": 16,
   "id": "e2833482",
   "metadata": {},
   "outputs": [
    {
     "name": "stdout",
     "output_type": "stream",
     "text": [
      "Enter the length of side 1: 24\n",
      "Enter the length of side 2: 34\n",
      "Enter the length of side 3: 24\n",
      "The triangle is Isosceles.\n"
     ]
    }
   ],
   "source": [
    "side1 = float(input(\"Enter the length of side 1: \"))\n",
    "side2 = float(input(\"Enter the length of side 2: \"))\n",
    "side3 = float(input(\"Enter the length of side 3: \"))\n",
    "\n",
    "if side1 == side2 == side3:\n",
    "    print(\"The triangle is Equilateral.\")\n",
    "elif side1 == side2 or side2 == side3 or side1 == side3:\n",
    "    print(\"The triangle is Isosceles.\")\n",
    "else:\n",
    "    print(\"The triangle is Scalene.\")"
   ]
  },
  {
   "cell_type": "markdown",
   "id": "5f8ac5e6",
   "metadata": {},
   "source": [
    "**16.Write a program to read any day number in integer and display day name in the word.**"
   ]
  },
  {
   "cell_type": "code",
   "execution_count": 17,
   "id": "c64dfc6c",
   "metadata": {},
   "outputs": [
    {
     "name": "stdout",
     "output_type": "stream",
     "text": [
      "Enter a day number : 3\n",
      "Wednesday\n"
     ]
    }
   ],
   "source": [
    "day = int(input(\"Enter a day number : \"))\n",
    "\n",
    "if day == 1:\n",
    "    print('Monday')\n",
    "elif day == 2:\n",
    "    print('Tuesday')\n",
    "elif day == 3:\n",
    "    print('Wednesday')\n",
    "elif day == 4:\n",
    "    print('Thursday')\n",
    "elif day == 5:\n",
    "    print('Friday')\n",
    "elif day == 6:\n",
    "    print('Saturday')\n",
    "elif day == 7:\n",
    "    print('Sunday')\n",
    "else:\n",
    "    print('Invalid day number')"
   ]
  },
  {
   "cell_type": "markdown",
   "id": "5d0f56fd",
   "metadata": {},
   "source": [
    "**17.Write a program to accept a coordinate point in a XY coordinate system and determine in which quadrant the coordinate point lies.**"
   ]
  },
  {
   "cell_type": "code",
   "execution_count": 18,
   "id": "3c3ba36a",
   "metadata": {},
   "outputs": [
    {
     "name": "stdout",
     "output_type": "stream",
     "text": [
      "Enter the x-coordinate: 2\n",
      "Enter the y-coordinate: 0\n",
      "The point (2.0, 0.0) lies in On the x-axis.\n"
     ]
    }
   ],
   "source": [
    "x = float(input(\"Enter the x-coordinate: \"))\n",
    "y = float(input(\"Enter the y-coordinate: \"))\n",
    "\n",
    "if x > 0 and y > 0:\n",
    "    quadrant = \"Quadrant I\"\n",
    "elif x < 0 and y > 0:\n",
    "    quadrant = \"Quadrant II\"\n",
    "elif x < 0 and y < 0:\n",
    "    quadrant = \"Quadrant III\"\n",
    "elif x > 0 and y < 0:\n",
    "    quadrant = \"Quadrant IV\"\n",
    "elif x == 0 and y != 0:\n",
    "    quadrant = \"On the y-axis\"\n",
    "elif x != 0 and y == 0:\n",
    "    quadrant = \"On the x-axis\"\n",
    "else:\n",
    "    quadrant = \"At the origin\"\n",
    "\n",
    "print(f\"The point ({x}, {y}) lies in {quadrant}.\")\n"
   ]
  },
  {
   "cell_type": "markdown",
   "id": "47ad057f",
   "metadata": {},
   "source": [
    "# Programs on loop"
   ]
  },
  {
   "cell_type": "markdown",
   "id": "e91bb772",
   "metadata": {},
   "source": [
    "**18. Write a program to find the sum of first 10 natural numbers.**"
   ]
  },
  {
   "cell_type": "code",
   "execution_count": 19,
   "id": "8cf5f531",
   "metadata": {},
   "outputs": [
    {
     "name": "stdout",
     "output_type": "stream",
     "text": [
      "Number1 is : 1\n",
      "Number2 is : 2\n",
      "Number3 is : 3\n",
      "Number4 is : 4\n",
      "Number5 is : 5\n",
      "Number6 is : 6\n",
      "Number7 is : 7\n",
      "Number8 is : 8\n",
      "Number9 is : 9\n",
      "Number10 is : 10\n",
      "\n",
      "Sum of first 10 natural numbers is :  55\n"
     ]
    }
   ],
   "source": [
    "total = 0\n",
    "for i in range(1,11):\n",
    "    total = total + i\n",
    "    print('Number{} is : {}'.format(i,i))\n",
    "print('\\nSum of first 10 natural numbers is : ',total)"
   ]
  },
  {
   "cell_type": "markdown",
   "id": "26ee7a5f",
   "metadata": {},
   "source": [
    "**19. Write a program to display n terms of natural number and their sum.**"
   ]
  },
  {
   "cell_type": "code",
   "execution_count": 20,
   "id": "85d225c1",
   "metadata": {},
   "outputs": [
    {
     "name": "stdout",
     "output_type": "stream",
     "text": [
      "Enter any number : 4\n",
      "\n",
      "Sum of the n terms of natual number is :  10\n"
     ]
    }
   ],
   "source": [
    "n = input('Enter any number : ')\n",
    "\n",
    "if n.isdigit():\n",
    "    n = int(n)\n",
    "    n_sum = 0\n",
    "    for i in range(n+1):\n",
    "        n_sum = n_sum + i\n",
    "    #n_sum = n*(n+1) / 2\n",
    "    print('\\nSum of the n terms of natual number is : ',n_sum)\n",
    "else:\n",
    "    print('\\nEnter Valid Number...')"
   ]
  },
  {
   "cell_type": "markdown",
   "id": "b2b376b8",
   "metadata": {},
   "source": [
    "**20. Write a program to display the cube of the number upto given an integer.**"
   ]
  },
  {
   "cell_type": "code",
   "execution_count": 21,
   "id": "60c2d367",
   "metadata": {},
   "outputs": [
    {
     "data": {
      "text/plain": [
       "27"
      ]
     },
     "execution_count": 21,
     "metadata": {},
     "output_type": "execute_result"
    }
   ],
   "source": [
    "n = 3\n",
    "\n",
    "for i in range(n+1):\n",
    "    cube = i**3\n",
    "cube"
   ]
  },
  {
   "cell_type": "markdown",
   "id": "3a8d28f2",
   "metadata": {},
   "source": [
    "**21. Write a program to display the multiplication table of a given integer.**"
   ]
  },
  {
   "cell_type": "code",
   "execution_count": 22,
   "id": "262fccb0",
   "metadata": {},
   "outputs": [
    {
     "name": "stdout",
     "output_type": "stream",
     "text": [
      "Enter a integer number : 4\n",
      "4 x 1 = 4\n",
      "4 x 2 = 8\n",
      "4 x 3 = 12\n",
      "4 x 4 = 16\n",
      "4 x 5 = 20\n",
      "4 x 6 = 24\n",
      "4 x 7 = 28\n",
      "4 x 8 = 32\n",
      "4 x 9 = 36\n",
      "4 x 10 = 40\n"
     ]
    }
   ],
   "source": [
    "num = int(input('Enter a integer number : '))\n",
    "for i in range(1,11):\n",
    "    mul = num * i\n",
    "    print('{} x {} = {}'.format(num,i,mul))"
   ]
  },
  {
   "cell_type": "markdown",
   "id": "c683b6fc",
   "metadata": {},
   "source": [
    "**22. Write a program to calculate the factorial of a given number.**"
   ]
  },
  {
   "cell_type": "code",
   "execution_count": 23,
   "id": "c6e84ecb",
   "metadata": {},
   "outputs": [
    {
     "name": "stdout",
     "output_type": "stream",
     "text": [
      "Enter a integer number : 7\n",
      "\n",
      "Factorial of given number 7 is 5040\n"
     ]
    }
   ],
   "source": [
    "num = int(input('Enter a integer number : '))\n",
    "temp = 1\n",
    "for i in range(1,num+1):\n",
    "    temp = temp * i\n",
    "print('\\nFactorial of given number {} is {}'.format(num,temp))"
   ]
  },
  {
   "cell_type": "markdown",
   "id": "66cb9eb0",
   "metadata": {},
   "source": [
    "**23. Write a program to display the n terms of even natural number and their sum.**"
   ]
  },
  {
   "cell_type": "code",
   "execution_count": 24,
   "id": "cd35d0f7",
   "metadata": {},
   "outputs": [
    {
     "name": "stdout",
     "output_type": "stream",
     "text": [
      "Enter the value of n: 9\n",
      "The first 9 even natural numbers is :\n",
      "0 2 4 6 8 10 12 14 16 \n",
      "The sum of the first 9 even natural numbers is: 72\n"
     ]
    }
   ],
   "source": [
    "n = int(input(\"Enter the value of n: \"))\n",
    "count = 0\n",
    "sum_even = 0\n",
    "print(\"The first {} even natural numbers is :\".format(n))\n",
    "while count < n:\n",
    "    even_number = 2 * count\n",
    "    print(even_number, end=\" \")\n",
    "    sum_even = sum_even + even_number\n",
    "    count += 1\n",
    "print(\"\\nThe sum of the first {} even natural numbers is: {}\".format(n,sum_even))"
   ]
  },
  {
   "cell_type": "markdown",
   "id": "2bc53b6c",
   "metadata": {},
   "source": [
    "**24. Write a program to display the sum of the series [ 9 + 99 + 999 + 9999 ...].**"
   ]
  },
  {
   "cell_type": "code",
   "execution_count": 25,
   "id": "b31a1aee",
   "metadata": {},
   "outputs": [
    {
     "name": "stdout",
     "output_type": "stream",
     "text": [
      "Enter a integer number : 4\n",
      "\n",
      "9 + 99 + 999 + 9999 + \n",
      "\n",
      "Sum of the above series is :  11106\n"
     ]
    }
   ],
   "source": [
    "num = int(input('Enter a integer number : '))\n",
    "rem = 0\n",
    "s = 0\n",
    "print()\n",
    "for i in range(1,num+1):\n",
    "    rem  = rem * 10 + 9\n",
    "    print(rem,'+ ',end='')\n",
    "    s = s + rem\n",
    "print('\\n\\nSum of the above series is : ',s)"
   ]
  },
  {
   "cell_type": "markdown",
   "id": "e6616d68",
   "metadata": {},
   "source": [
    "**25. Write a program to check whether a given number is an armstrong number or not.**"
   ]
  },
  {
   "cell_type": "code",
   "execution_count": 26,
   "id": "7bdbf534",
   "metadata": {},
   "outputs": [
    {
     "name": "stdout",
     "output_type": "stream",
     "text": [
      "Enter a integer number : 2\n",
      "\n",
      "Given number 2 is Armstrong Number.\n"
     ]
    }
   ],
   "source": [
    "num = int(input('Enter a integer number : ')) # 153 , 1634\n",
    "temp = num\n",
    "s = 0\n",
    "length = len(str(num))\n",
    "while num != 0:\n",
    "    rem = num % 10\n",
    "    s = s + (rem**length)\n",
    "    num = num//10    \n",
    "if s == temp:\n",
    "    print('\\nGiven number {} is Armstrong Number.'.format(temp))\n",
    "else:\n",
    "    print('\\nGiven number {} is not Armstrong Number.'.format(temp))"
   ]
  },
  {
   "cell_type": "markdown",
   "id": "f8b98c1b",
   "metadata": {},
   "source": [
    "**26. Write a program to determine whether a given number is prime or not.**"
   ]
  },
  {
   "cell_type": "code",
   "execution_count": 27,
   "id": "6d05bdc9",
   "metadata": {},
   "outputs": [
    {
     "name": "stdout",
     "output_type": "stream",
     "text": [
      "Number is Prime...\n"
     ]
    }
   ],
   "source": [
    "number = 5\n",
    "\n",
    "if number <= 1:\n",
    "    print(\"Number is Not Prime...\")\n",
    "elif number == 2 or number == 3:\n",
    "    print(\"Number is Prime...\")\n",
    "elif number % 2 == 0 or number % 3 == 0:\n",
    "    print(\"Number is Not Prime...\")\n",
    "else:\n",
    "    m = 5\n",
    "    while m * m <= number:\n",
    "        if number % m == 0 or number % (m + 2) == 0:\n",
    "            print(\"Number is Not Prime...\")\n",
    "            break\n",
    "        m = m + 6\n",
    "    else:\n",
    "        print(\"Number is Prime...\")"
   ]
  },
  {
   "cell_type": "markdown",
   "id": "39feb35b",
   "metadata": {},
   "source": [
    "**27. Write a program to display the first n terms of Fibonacci series.**"
   ]
  },
  {
   "cell_type": "code",
   "execution_count": 28,
   "id": "f7fd7aff",
   "metadata": {},
   "outputs": [
    {
     "name": "stdout",
     "output_type": "stream",
     "text": [
      "Enter a integer number : 56\n",
      "\n",
      "Fibonacci Series : \n",
      "0 1 1 2 3 5 8 13 21 34 55 89 144 233 377 610 987 1597 2584 4181 6765 10946 17711 28657 46368 75025 121393 196418 317811 514229 832040 1346269 2178309 3524578 5702887 9227465 14930352 24157817 39088169 63245986 102334155 165580141 267914296 433494437 701408733 1134903170 1836311903 2971215073 4807526976 7778742049 12586269025 20365011074 32951280099 53316291173 86267571272 139583862445 "
     ]
    }
   ],
   "source": [
    "num = int(input('Enter a integer number : '))\n",
    "num1, num2 = 0, 1\n",
    "print('\\nFibonacci Series : ')\n",
    "print(num1,end=' ')\n",
    "print(num2,end=' ')\n",
    "for i in range(3,num+1):\n",
    "    s = num1 + num2\n",
    "    print(s,end=' ')\n",
    "    num1 = num2\n",
    "    num2 = s"
   ]
  },
  {
   "cell_type": "markdown",
   "id": "197a89be",
   "metadata": {},
   "source": [
    "**28. Write a program to display the number in reverse order.**\n",
    "**Example: Input 12345 Output 54321**"
   ]
  },
  {
   "cell_type": "code",
   "execution_count": 29,
   "id": "0f8046d7",
   "metadata": {},
   "outputs": [
    {
     "name": "stdout",
     "output_type": "stream",
     "text": [
      "Enter number : 54\n",
      "\n",
      "Your input number is : 54\n",
      "In Reverse Order : 45\n"
     ]
    }
   ],
   "source": [
    "num = int(input('Enter number : '))\n",
    "s = 0\n",
    "temp = num\n",
    "while num != 0:\n",
    "    rem = num % 10\n",
    "    s = s * 10 + rem\n",
    "    num = num//10\n",
    "print('\\nYour input number is : {}'.format(temp))\n",
    "print('In Reverse Order : {}'.format(s))"
   ]
  },
  {
   "cell_type": "markdown",
   "id": "4658206b",
   "metadata": {},
   "source": [
    "**29. Write a program to check whether a number is a palindrome or not.**"
   ]
  },
  {
   "cell_type": "code",
   "execution_count": 30,
   "id": "9e4e4ec7",
   "metadata": {},
   "outputs": [
    {
     "name": "stdout",
     "output_type": "stream",
     "text": [
      "Enter number : 43\n",
      "\n",
      "34 - Number is not Palindrome\n"
     ]
    }
   ],
   "source": [
    "num = int(input('Enter number : '))\n",
    "s = 0\n",
    "temp = num\n",
    "while num != 0:\n",
    "    rem = num % 10\n",
    "    s = s * 10 + rem\n",
    "    num = num//10\n",
    "    \n",
    "if temp == s:\n",
    "    print('\\n{} - Number is Palindrome'.format(s))\n",
    "else:\n",
    "    print('\\n{} - Number is not Palindrome'.format(s))"
   ]
  },
  {
   "cell_type": "markdown",
   "id": "a73d4a92",
   "metadata": {},
   "source": [
    "# Pattern programs"
   ]
  },
  {
   "cell_type": "markdown",
   "id": "47f18089",
   "metadata": {},
   "source": [
    "**30. Write a program to display the pattern like right angle triangle using an asterisk. The pattern like**"
   ]
  },
  {
   "cell_type": "code",
   "execution_count": 6,
   "id": "f439e946",
   "metadata": {},
   "outputs": [
    {
     "name": "stdout",
     "output_type": "stream",
     "text": [
      "Enter One Number...4\n",
      "     \n",
      "\n",
      " *   \n",
      "\n",
      " **  \n",
      "\n",
      " *** \n",
      "\n",
      " ****\n",
      "\n"
     ]
    }
   ],
   "source": [
    "num = int(input('Enter One Number...'))\n",
    "for i in range(num+1):\n",
    "    for j in range(num+1):\n",
    "        if (j>=1 and  j<=i):\n",
    "            print('*',end='')\n",
    "        else:\n",
    "            print(' ',end='')\n",
    "    print('\\n')"
   ]
  },
  {
   "cell_type": "markdown",
   "id": "da3e999a",
   "metadata": {},
   "source": [
    "**31.Write a program to display the pattern like right angle triangle with a number. The pattern like:**"
   ]
  },
  {
   "cell_type": "code",
   "execution_count": 7,
   "id": "78d63dc7",
   "metadata": {},
   "outputs": [
    {
     "name": "stdout",
     "output_type": "stream",
     "text": [
      "Enter the number of rows: 5\n",
      "1\n",
      "12\n",
      "123\n",
      "1234\n",
      "12345\n"
     ]
    }
   ],
   "source": [
    "n = int(input(\"Enter the number of rows: \"))\n",
    "\n",
    "for i in range(1, n + 1):\n",
    "    for j in range(1, i + 1):\n",
    "        print(j, end=\"\")\n",
    "    print()"
   ]
  },
  {
   "cell_type": "markdown",
   "id": "440dff9a",
   "metadata": {},
   "source": [
    "**32. Write a program to make such a pattern like right angle triangle with a number which\n",
    "will repeat a number in a row.**"
   ]
  },
  {
   "cell_type": "code",
   "execution_count": 9,
   "id": "2d63d444",
   "metadata": {},
   "outputs": [
    {
     "name": "stdout",
     "output_type": "stream",
     "text": [
      "Enter One Number...4\n",
      "     \n",
      "\n",
      " 1   \n",
      "\n",
      " 22  \n",
      "\n",
      " 333 \n",
      "\n",
      " 4444\n",
      "\n"
     ]
    }
   ],
   "source": [
    "num = int(input('Enter One Number...'))\n",
    "\n",
    "for i in range(num+1):\n",
    "    for j in range(num+1):\n",
    "        if (j>=1 and  j<=i):\n",
    "            print(i,end='')\n",
    "        else:\n",
    "            print(' ',end='')\n",
    "    print('\\n')"
   ]
  },
  {
   "cell_type": "markdown",
   "id": "cbb4ac0d",
   "metadata": {},
   "source": [
    "**33.Write a program to make such a pattern like right angle triangle with number increased by 1. The pattern like:**"
   ]
  },
  {
   "cell_type": "code",
   "execution_count": 10,
   "id": "23f02b18",
   "metadata": {},
   "outputs": [
    {
     "name": "stdout",
     "output_type": "stream",
     "text": [
      "Enter the number of rows: 4\n",
      "1\n",
      "23\n",
      "456\n",
      "78910\n"
     ]
    }
   ],
   "source": [
    "n = int(input(\"Enter the number of rows: \"))\n",
    "number = 1\n",
    "\n",
    "for i in range(1, n + 1):\n",
    "    for j in range(1, i + 1):\n",
    "        print(number, end=\"\")\n",
    "        number = number + 1\n",
    "    print()"
   ]
  },
  {
   "cell_type": "markdown",
   "id": "107ffac8",
   "metadata": {},
   "source": [
    "**34.Write a program to make such a pattern like a pyramid with numbers increased by 1. The pattern like:**"
   ]
  },
  {
   "cell_type": "code",
   "execution_count": 11,
   "id": "e614ba54",
   "metadata": {},
   "outputs": [
    {
     "name": "stdout",
     "output_type": "stream",
     "text": [
      "Enter the number of rows: 6\n",
      "1 \n",
      "2 3 \n",
      "4 5 6 \n",
      "7 8 9 10 \n",
      "11 12 13 14 15 \n",
      "16 17 18 19 20 21 \n"
     ]
    }
   ],
   "source": [
    "n = int(input(\"Enter the number of rows: \"))\n",
    "number = 1\n",
    "for i in range(1, n + 1):\n",
    "    for j in range(1, i + 1):\n",
    "        print(number, end=\" \")\n",
    "        number += 1\n",
    "    print()"
   ]
  },
  {
   "cell_type": "markdown",
   "id": "b793238a",
   "metadata": {},
   "source": [
    "**35. Write a program to print following pattern…**"
   ]
  },
  {
   "cell_type": "code",
   "execution_count": 13,
   "id": "2e2c418a",
   "metadata": {},
   "outputs": [
    {
     "name": "stdout",
     "output_type": "stream",
     "text": [
      "Enter a number : 4\n",
      " *****\n",
      " *****\n",
      " *****\n",
      " *****\n"
     ]
    }
   ],
   "source": [
    "num = int(input('Enter a number : '))\n",
    "for i in range(num):\n",
    "    for j in range(num+2):       \n",
    "        if j>=1 and j <= 5:\n",
    "            print('*'\n",
    "                  ,end='')\n",
    "        else:\n",
    "            print(' ',end='')\n",
    "    print()"
   ]
  },
  {
   "cell_type": "markdown",
   "id": "c6b7cc01",
   "metadata": {},
   "source": [
    "**36. . Write a program to print following pattern…**"
   ]
  },
  {
   "cell_type": "code",
   "execution_count": 14,
   "id": "c661b2c0",
   "metadata": {},
   "outputs": [
    {
     "name": "stdout",
     "output_type": "stream",
     "text": [
      "Enter the number of rows: 5\n",
      "*   *\n",
      " *  *\n",
      "  * *\n",
      "   **\n",
      "    *\n"
     ]
    }
   ],
   "source": [
    "n = int(input(\"Enter the number of rows: \"))\n",
    "for i in range(n):\n",
    "    for j in range(n):\n",
    "        if j >= i:\n",
    "            if j == i or j == n - 1:\n",
    "                print(\"*\", end=\"\")\n",
    "            else:\n",
    "                print(\" \", end=\"\")\n",
    "        else:\n",
    "            print(\" \", end=\"\")\n",
    "    print()"
   ]
  },
  {
   "cell_type": "markdown",
   "id": "1c355b8e",
   "metadata": {},
   "source": [
    "**37. Write a program to print following pattern…**"
   ]
  },
  {
   "cell_type": "code",
   "execution_count": 15,
   "id": "51e05baf",
   "metadata": {},
   "outputs": [
    {
     "name": "stdout",
     "output_type": "stream",
     "text": [
      "Enter a number : 5\n",
      " *****\n",
      " **** \n",
      " ***  \n",
      " **   \n",
      " *    \n"
     ]
    }
   ],
   "source": [
    "num = int(input('Enter a number : '))\n",
    "\n",
    "for i in range(num):\n",
    "    for j in range(num+1):\n",
    "        if j>=1 and j<=num-i:\n",
    "            print('*',end='')\n",
    "        else:\n",
    "            print(' ',end='')\n",
    "    print()"
   ]
  },
  {
   "cell_type": "markdown",
   "id": "56032691",
   "metadata": {},
   "source": [
    "**38. Write a program to print following pattern…**"
   ]
  },
  {
   "cell_type": "code",
   "execution_count": 16,
   "id": "f1280591",
   "metadata": {},
   "outputs": [
    {
     "name": "stdout",
     "output_type": "stream",
     "text": [
      "Enter the number of rows: 5\n",
      "*****\n",
      "**   \n",
      "* *  \n",
      "*  * \n",
      "*****\n"
     ]
    }
   ],
   "source": [
    "n = int(input(\"Enter the number of rows: \"))\n",
    "\n",
    "for i in range(n):\n",
    "    for j in range(n):\n",
    "        if i == 0 or i == n - 1 or j == 0 or j == i:\n",
    "            print(\"*\", end=\"\")\n",
    "        else:\n",
    "            print(\" \", end=\"\")\n",
    "    print()"
   ]
  },
  {
   "cell_type": "markdown",
   "id": "95fc4a42",
   "metadata": {},
   "source": [
    "**39. Write a program to print following pattern…**"
   ]
  },
  {
   "cell_type": "code",
   "execution_count": 17,
   "id": "28a0f4f7",
   "metadata": {},
   "outputs": [
    {
     "name": "stdout",
     "output_type": "stream",
     "text": [
      "Enter a number : 4\n",
      "\n",
      "* * * *\n",
      " * * * \n",
      "  * *  \n",
      "   *   \n",
      "       \n"
     ]
    }
   ],
   "source": [
    "n = int(input('Enter a number : '))\n",
    "print()\n",
    "for i in range(n+1):\n",
    "    k=1\n",
    "    for j in range((n*2)-1):\n",
    "        if j>=i and j<=(n*2)-1-i and k:\n",
    "            print('*',end='')\n",
    "            k=0\n",
    "        else:\n",
    "            print(' ',end='')\n",
    "            k=1\n",
    "    print()"
   ]
  },
  {
   "cell_type": "markdown",
   "id": "5f50ae35",
   "metadata": {},
   "source": [
    "**40. Write a program to print following pattern…**"
   ]
  },
  {
   "cell_type": "code",
   "execution_count": 18,
   "id": "834b1474",
   "metadata": {},
   "outputs": [
    {
     "name": "stdout",
     "output_type": "stream",
     "text": [
      "Enter the number of rows: 5\n",
      "*****\n",
      " ****\n",
      "  ***\n",
      "   **\n",
      "    *\n"
     ]
    }
   ],
   "source": [
    "n = int(input(\"Enter the number of rows: \"))\n",
    "\n",
    "for i in range(n):\n",
    "    for j in range(n):\n",
    "        if j >= i:\n",
    "            print(\"*\", end=\"\")\n",
    "        else:\n",
    "            print(\" \", end=\"\")\n",
    "    print() "
   ]
  },
  {
   "cell_type": "markdown",
   "id": "c5f26cc2",
   "metadata": {},
   "source": [
    "**41. Write a program to print following pattern…**"
   ]
  },
  {
   "cell_type": "code",
   "execution_count": 19,
   "id": "165191bb",
   "metadata": {},
   "outputs": [
    {
     "name": "stdout",
     "output_type": "stream",
     "text": [
      "Enter a number : 5\n",
      "    *    \n",
      "   ***   \n",
      "  *****  \n",
      " ******* \n",
      "*********\n"
     ]
    }
   ],
   "source": [
    "n = int(input('Enter a number : '))\n",
    "for i in range(1,n+1):\n",
    "    for j in range(1,(n*2)):\n",
    "        if j >= (n+1)-i and j <= (n-1)+i:\n",
    "            print('*',end='')\n",
    "        else:\n",
    "            print(' ',end='')\n",
    "    print()"
   ]
  },
  {
   "cell_type": "markdown",
   "id": "de243106",
   "metadata": {},
   "source": [
    "**42. Write a program to print following pattern…**"
   ]
  },
  {
   "cell_type": "markdown",
   "id": "421baf40",
   "metadata": {},
   "source": [
    "**43. Write a program to print following pattern…**"
   ]
  },
  {
   "cell_type": "markdown",
   "id": "af38e8ff",
   "metadata": {},
   "source": [
    "**44. Write a program to print following pattern...**"
   ]
  },
  {
   "cell_type": "code",
   "execution_count": 20,
   "id": "450c4b26",
   "metadata": {},
   "outputs": [
    {
     "name": "stdout",
     "output_type": "stream",
     "text": [
      "Enter the number of rows: 5\n",
      "*\n",
      "**\n",
      "***\n",
      "****\n",
      "*****\n",
      "****\n",
      "***\n",
      "**\n",
      "*\n"
     ]
    }
   ],
   "source": [
    "n = int(input(\"Enter the number of rows: \"))\n",
    "\n",
    "for i in range(n):\n",
    "    for j in range(i + 1):\n",
    "        print(\"*\", end=\"\")\n",
    "    print()\n",
    "\n",
    "for i in range(n - 1):\n",
    "    for j in range(n - i - 1):\n",
    "        print(\"*\", end=\"\")\n",
    "    print()"
   ]
  },
  {
   "cell_type": "markdown",
   "id": "f30d6a1d",
   "metadata": {},
   "source": [
    "**45. Write a program to read n number of values in an array and display it in reverse order.**"
   ]
  },
  {
   "cell_type": "code",
   "execution_count": 22,
   "id": "d0f3adf6",
   "metadata": {},
   "outputs": [
    {
     "name": "stdout",
     "output_type": "stream",
     "text": [
      "Enter number of elements : 5\n",
      "element1. : 0\n",
      "element2. : 1\n",
      "element3. : -1\n",
      "element4. : 4\n",
      "element5. : -4\n",
      "\n",
      "Input Array :  [0, 1, -1, 4, -4]\n",
      "Array in reverse order :  [-4, 4, -1, 1, 0]\n"
     ]
    }
   ],
   "source": [
    "arr = []\n",
    "n = int(input('Enter number of elements : '))\n",
    "for i in range(0,n):\n",
    "    num = int(input('element{}. : '.format(i+1)))\n",
    "    arr.append(num)\n",
    "print('\\nInput Array : ',arr)\n",
    "print('Array in reverse order : ',arr[::-1])"
   ]
  },
  {
   "cell_type": "markdown",
   "id": "01a8220c",
   "metadata": {},
   "source": [
    "# Array programs"
   ]
  },
  {
   "cell_type": "markdown",
   "id": "8bec3cbe",
   "metadata": {},
   "source": [
    "**46. Write a program to copy the elements of one array into another array.**"
   ]
  },
  {
   "cell_type": "code",
   "execution_count": 23,
   "id": "d7af4fdd",
   "metadata": {},
   "outputs": [
    {
     "name": "stdout",
     "output_type": "stream",
     "text": [
      "Array 1 :  [1, 2, 3, 4, 5]\n",
      "Array 2 :  [11, 12, 13, 14, 15]\n",
      "\n",
      "Enter element of array 1 : 4\n",
      "\n",
      "Your input element is :  4\n",
      "Your element is copyed in the array 2 :  [4, 11, 12, 13, 14, 15]\n"
     ]
    }
   ],
   "source": [
    "arr1 = [1,2,3,4,5]\n",
    "arr2 = [11,12,13,14,15]\n",
    "print('Array 1 : ',arr1)\n",
    "print('Array 2 : ',arr2)\n",
    "ele = int(input('\\nEnter element of array 1 : '))\n",
    "if ele in arr1:\n",
    "    arr2.insert(0,ele)\n",
    "    print('\\nYour input element is : ',ele)\n",
    "    print('Your element is copyed in the array 2 : ',arr2)\n",
    "else:\n",
    "    print('\\nYour input {} is not present in array 1, Enter Valid element...'.format(ele))"
   ]
  },
  {
   "cell_type": "markdown",
   "id": "3e501ac7",
   "metadata": {},
   "source": [
    " **47. Write a program to count a total number of duplicate elements in an array.**"
   ]
  },
  {
   "cell_type": "code",
   "execution_count": 24,
   "id": "bc2ff253",
   "metadata": {},
   "outputs": [
    {
     "name": "stdout",
     "output_type": "stream",
     "text": [
      "Array is :  [1, 2, 2, 3, 4, 4, 5]\n",
      "Total Number of Duplicate element is :  2\n"
     ]
    }
   ],
   "source": [
    "l = [1,2,2,3,4,4,5]\n",
    "new = []\n",
    "c = 0\n",
    "for i in l:\n",
    "    if i in new:\n",
    "        c = c + 1\n",
    "    else:\n",
    "        new.append(i)\n",
    "print('Array is : ',l)\n",
    "print('Total Number of Duplicate element is : ',c)"
   ]
  },
  {
   "cell_type": "markdown",
   "id": "97cf2510",
   "metadata": {},
   "source": [
    "**48. Write a program to print all unique elements in an array.**"
   ]
  },
  {
   "cell_type": "code",
   "execution_count": 25,
   "id": "c6ca37b3",
   "metadata": {},
   "outputs": [
    {
     "name": "stdout",
     "output_type": "stream",
     "text": [
      "Array is :  [1, 2, 2, 3, 4, 4, 4, 5]\n",
      "Unique element is :  [1, 2, 3, 4, 5]\n"
     ]
    }
   ],
   "source": [
    "arr = [1,2,2,3,4,4,4,5]\n",
    "new_arr = []\n",
    "for i in arr:\n",
    "    if i not in new_arr:\n",
    "        new_arr.append(i)\n",
    "print('Array is : ',arr)\n",
    "print('Unique element is : ',new_arr)"
   ]
  },
  {
   "cell_type": "markdown",
   "id": "067cf435",
   "metadata": {},
   "source": [
    "**49. Write a program to merge two arrays of same size sorted in decending order.**"
   ]
  },
  {
   "cell_type": "code",
   "execution_count": 26,
   "id": "822ce2d1",
   "metadata": {},
   "outputs": [
    {
     "name": "stdout",
     "output_type": "stream",
     "text": [
      "Array 1 is :  [1, 0, -5, 2]\n",
      "Array 2 is :  [9, 11, -2, 16]\n",
      "Merge two array :  [1, 0, -5, 2, 9, 11, -2, 16]\n",
      "Sorted in decending order :  [16, 11, 9, 2, 1, 0, -2, -5]\n"
     ]
    }
   ],
   "source": [
    "arr1 = [1,0,-5,2]\n",
    "arr2 = [9,11,-2,16]\n",
    "\n",
    "if len(arr1) == len(arr2):\n",
    "    print('Array 1 is : ',arr1)\n",
    "    print('Array 2 is : ',arr2)\n",
    "\n",
    "    arr = arr1 + arr2\n",
    "    print('Merge two array : ',arr)\n",
    "\n",
    "    for i in range(len(arr)):\n",
    "        for j in range(i + 1, len(arr)):\n",
    "            if arr[i] < arr[j]:\n",
    "                temp = arr[i]\n",
    "                arr[i] = arr[j]\n",
    "                arr[j] = temp\n",
    "\n",
    "    print('Sorted in decending order : ',arr)\n",
    "else:\n",
    "    print('Array size is not same..')"
   ]
  },
  {
   "cell_type": "markdown",
   "id": "1d53c95b",
   "metadata": {},
   "source": [
    "**50. Write a program to count the frequency of each element of an array.**"
   ]
  },
  {
   "cell_type": "code",
   "execution_count": 8,
   "id": "f81ce7c2",
   "metadata": {},
   "outputs": [
    {
     "name": "stdout",
     "output_type": "stream",
     "text": [
      "Element 10 occurs 2 times\n",
      "Element 23 occurs 2 times\n",
      "Element 43 occurs 2 times\n",
      "Element 32 occurs 2 times\n",
      "Element 21 occurs 1 times\n",
      "Element 54 occurs 1 times\n",
      "Element 90 occurs 1 times\n"
     ]
    }
   ],
   "source": [
    "arr = [10,23,43,32,21,23,32,43,54,90,10]\n",
    "frequency = {}\n",
    "for ele in arr:\n",
    "    if ele in frequency:\n",
    "        frequency[ele] += 1\n",
    "    else:\n",
    "        frequency[ele] = 1\n",
    "# print(frequency)\n",
    "for key, value in frequency.items():\n",
    "    print(\"Element {} occurs {} times\".format(key,value))"
   ]
  },
  {
   "cell_type": "markdown",
   "id": "26165b28",
   "metadata": {},
   "source": [
    "**51. Write a program to find the maximum and minimum element in an array.**"
   ]
  },
  {
   "cell_type": "code",
   "execution_count": 31,
   "id": "bbfe5130",
   "metadata": {},
   "outputs": [
    {
     "name": "stdout",
     "output_type": "stream",
     "text": [
      "Array is :  [1, 0, 0, 8, 3, 3, 2, -5, -3, 2]\n",
      "Maximum number is :  8\n",
      "Minimum number is :  -5\n"
     ]
    }
   ],
   "source": [
    "arr = [1,0,0,8,3,3,2,-5,-3,2]\n",
    "print('Array is : ',arr)\n",
    "for i in range(len(arr)):\n",
    "    for j in range(i+1,len(arr)):\n",
    "        if arr[i] < arr[j]:\n",
    "            temp = arr[i]\n",
    "            arr[i] = arr[j]\n",
    "            arr[j] = temp\n",
    "            \n",
    "print('Maximum number is : ',arr[0])\n",
    "print('Minimum number is : ',arr[9])"
   ]
  },
  {
   "cell_type": "markdown",
   "id": "7067c5fd",
   "metadata": {},
   "source": [
    "**52. Write a program to separate odd and even integers in separate arrays.**"
   ]
  },
  {
   "cell_type": "code",
   "execution_count": 32,
   "id": "b53f60e4",
   "metadata": {},
   "outputs": [
    {
     "name": "stdout",
     "output_type": "stream",
     "text": [
      "Given Array is : [3, 5, 6, 4, 8, 12, 13, 17, 15]\n",
      "Even elemtnts Array is : [6, 4, 8, 12]\n",
      "Odd elemtnts Array is : [3, 5, 13, 17, 15]\n"
     ]
    }
   ],
   "source": [
    "arr = [3,5,6,4,8,12,13,17,15]\n",
    "even_arr = []\n",
    "odd_arr = []\n",
    "for i in arr:\n",
    "    if (i % 2) == 0:\n",
    "        even_arr.append(i)\n",
    "    else:\n",
    "        odd_arr.append(i)\n",
    "print('Given Array is : {}'.format(arr))\n",
    "print('Even elemtnts Array is : {}'.format(even_arr))\n",
    "print('Odd elemtnts Array is : {}'.format(odd_arr))"
   ]
  },
  {
   "cell_type": "markdown",
   "id": "ed48539d",
   "metadata": {},
   "source": [
    "**53. Write a program to sort elements of array in ascending order.**"
   ]
  },
  {
   "cell_type": "code",
   "execution_count": 33,
   "id": "fed7883e",
   "metadata": {},
   "outputs": [
    {
     "name": "stdout",
     "output_type": "stream",
     "text": [
      "Input Array is :  [1, 7, 3, 5, 0, 9, 2]\n",
      "Array in ascending order :  [0, 1, 2, 3, 5, 7, 9]\n"
     ]
    }
   ],
   "source": [
    "arr = [1,7,3,5,0,9,2]\n",
    "print('Input Array is : ',arr)\n",
    "for i in range(len(arr)):\n",
    "        for j in range(i + 1, len(arr)):\n",
    "            if arr[i] > arr[j]:\n",
    "                temp = arr[i]\n",
    "                arr[i] = arr[j]\n",
    "                arr[j] = temp\n",
    "print('Array in ascending order : ',arr)"
   ]
  },
  {
   "cell_type": "markdown",
   "id": "512948b9",
   "metadata": {},
   "source": [
    "**54. Write a program to delete an element at desired position from an array.**"
   ]
  },
  {
   "cell_type": "code",
   "execution_count": 35,
   "id": "2161c4f2",
   "metadata": {},
   "outputs": [
    {
     "name": "stdout",
     "output_type": "stream",
     "text": [
      "Original Array is :  [1, 7, 3, 5, 0, 9, 2]\n",
      "Enter element : 7\n",
      "\n",
      "Deleted element is :  7\n",
      "Array is :  [1, 3, 5, 0, 9, 2]\n"
     ]
    }
   ],
   "source": [
    "arr = [1,7,3,5,0,9,2]\n",
    "print('Original Array is : ',arr)\n",
    "num = int(input('Enter element : '))\n",
    "for i in range(len(arr)):\n",
    "    if num == arr[i]:\n",
    "        index = i\n",
    "print('\\nDeleted element is : ',arr.pop(index))\n",
    "print('Array is : ',arr)"
   ]
  },
  {
   "cell_type": "markdown",
   "id": "a7b7e2d2",
   "metadata": {},
   "source": [
    "# Function Program"
   ]
  },
  {
   "cell_type": "markdown",
   "id": "ef94042a",
   "metadata": {},
   "source": [
    "**55. Write a program to find the square of any number using the function**"
   ]
  },
  {
   "cell_type": "code",
   "execution_count": 36,
   "id": "d4c8d426",
   "metadata": {},
   "outputs": [
    {
     "name": "stdout",
     "output_type": "stream",
     "text": [
      "Enter number for square : 4\n",
      "\n",
      "Square of 4 is : 16\n"
     ]
    }
   ],
   "source": [
    "def square(n):\n",
    "    return n**2\n",
    "\n",
    "num = int(input('Enter number for square : '))\n",
    "print('\\nSquare of {} is : {}'.format(num, square(num)))"
   ]
  },
  {
   "cell_type": "markdown",
   "id": "8783192e",
   "metadata": {},
   "source": [
    "**56. Write a program to swap two numbers using function.**"
   ]
  },
  {
   "cell_type": "code",
   "execution_count": 37,
   "id": "b8986302",
   "metadata": {},
   "outputs": [
    {
     "name": "stdout",
     "output_type": "stream",
     "text": [
      "Enter a : 3\n",
      "Enter b : 5\n",
      "\n",
      "Old a :  3\n",
      "Old b :  5\n",
      "\n",
      "New a :  5\n",
      "New b :  3\n"
     ]
    }
   ],
   "source": [
    "def swap_number(a,b):\n",
    "    b = a+b\n",
    "    a = b-a\n",
    "    b = b-a\n",
    "    return a,b\n",
    "\n",
    "a = int(input('Enter a : '))\n",
    "b = int(input('Enter b : '))\n",
    "print('\\nOld a : ',a)\n",
    "print('Old b : ',b)\n",
    "a,b = swap_number(a,b)\n",
    "print('\\nNew a : ',a)\n",
    "print('New b : ',b)"
   ]
  },
  {
   "cell_type": "markdown",
   "id": "664194e1",
   "metadata": {},
   "source": [
    "**57. Write a program to check a given number is even or odd using the function.**"
   ]
  },
  {
   "cell_type": "code",
   "execution_count": 38,
   "id": "f5c50823",
   "metadata": {},
   "outputs": [
    {
     "name": "stdout",
     "output_type": "stream",
     "text": [
      "Enter Number : 4\n",
      "Your number 4 is : Even Number\n"
     ]
    }
   ],
   "source": [
    "def even_odd(n):\n",
    "    if (n%2) == 0:\n",
    "        return 'Even Number'\n",
    "    else:\n",
    "        return 'Odd Number'\n",
    "\n",
    "num = int(input('Enter Number : '))\n",
    "print('Your number {} is : {}'.format(num,even_odd(num)))"
   ]
  },
  {
   "cell_type": "markdown",
   "id": "64018931",
   "metadata": {},
   "source": [
    "**58. Write a program to check whether a number is a prime number or not using the function.**"
   ]
  },
  {
   "cell_type": "code",
   "execution_count": 39,
   "id": "52da7fc4",
   "metadata": {},
   "outputs": [
    {
     "name": "stdout",
     "output_type": "stream",
     "text": [
      "Enter number to check its prime or not : 5\n",
      "\n",
      "5 is a prime number\n"
     ]
    }
   ],
   "source": [
    "def prime_number(num):\n",
    "    k = 1\n",
    "    if num < 2:\n",
    "        k = 0\n",
    "    else:\n",
    "        for i in range(2, num):\n",
    "            if num % i == 0:\n",
    "                k = 0\n",
    "                break\n",
    "    return k\n",
    "num = int(input('Enter number to check its prime or not : '))\n",
    "if prime_number(num):\n",
    "    print(\"\\n{} is a prime number\".format(num))\n",
    "else:\n",
    "    print(\"\\n{} is not a prime number\".format(num))"
   ]
  },
  {
   "cell_type": "markdown",
   "id": "deacf2e7",
   "metadata": {},
   "source": [
    "**59. Write a program to get the largest element of an array using the function.**"
   ]
  },
  {
   "cell_type": "code",
   "execution_count": 40,
   "id": "8cf67be5",
   "metadata": {},
   "outputs": [
    {
     "name": "stdout",
     "output_type": "stream",
     "text": [
      "Array is :  [1, 0, 0, 8, 3, 3, 2, -5, -3, 2]\n",
      "\n",
      "Maximum element in the array is :  8\n"
     ]
    }
   ],
   "source": [
    "def find_largest():\n",
    "    arr = [1,0,0,8,3,3,2,-5,-3,2]\n",
    "    print('Array is : ',arr)\n",
    "    for i in range(len(arr)):\n",
    "        for j in range(i+1,len(arr)):\n",
    "            if arr[i] < arr[j]:\n",
    "                temp = arr[i]\n",
    "                arr[i] = arr[j]\n",
    "                arr[j] = temp\n",
    "    return arr[0]\n",
    "print('\\nMaximum element in the array is : ',find_largest())"
   ]
  },
  {
   "cell_type": "markdown",
   "id": "0e35b0d7",
   "metadata": {},
   "source": [
    "**60. Write a program to check armstrong and perfect numbers using the function.**"
   ]
  },
  {
   "cell_type": "code",
   "execution_count": 41,
   "id": "2eb75193",
   "metadata": {},
   "outputs": [
    {
     "name": "stdout",
     "output_type": "stream",
     "text": [
      "Enter number : 5\n",
      "\n",
      "5 is Armstrong Number.\n",
      "5 is Not a Perfect number.\n"
     ]
    }
   ],
   "source": [
    "def armstrong_number(num):\n",
    "    temp = num\n",
    "    s = 0\n",
    "    length = len(str(num))\n",
    "    while num != 0:\n",
    "        rem = num % 10\n",
    "        s = s + rem**length\n",
    "        num = num // 10\n",
    "    if temp == s:\n",
    "        return 'Armstrong Number.'\n",
    "    else:\n",
    "        return 'Not Armstrong Number.'\n",
    "def perfect(num):\n",
    "    rem = 0\n",
    "    for i in range(1, num):\n",
    "        if num % i == 0:\n",
    "            rem = rem + i\n",
    "    if rem == num:\n",
    "        print('{} is a Perfect number.'.format(num))\n",
    "    else:\n",
    "        print('{} is Not a Perfect number.'.format(num))\n",
    "        \n",
    "num = int(input('Enter number : '))\n",
    "print('\\n{} is {}'.format(num,armstrong_number(num)))\n",
    "perfect(num)"
   ]
  },
  {
   "cell_type": "markdown",
   "id": "dce22d8e",
   "metadata": {},
   "source": [
    "**61. Write a program to print all perfect numbers in given range using the function.**"
   ]
  },
  {
   "cell_type": "code",
   "execution_count": 43,
   "id": "7cf66855",
   "metadata": {},
   "outputs": [
    {
     "name": "stdout",
     "output_type": "stream",
     "text": [
      "Enter the lower limit of the range: 0\n",
      "Enter the upper limit of the range: 500\n",
      "\n",
      "Perfect numbers in the range 0 to 500:\n",
      "0 6 28 496 "
     ]
    }
   ],
   "source": [
    "low = int(input(\"Enter the lower limit of the range: \"))\n",
    "upr= int(input(\"Enter the upper limit of the range: \"))\n",
    "\n",
    "print(\"\\nPerfect numbers in the range {} to {}:\".format(low, upr))\n",
    "\n",
    "for num in range(low, upr + 1):\n",
    "    rem = 0\n",
    "    for i in range(1, num):\n",
    "        if num % i == 0:\n",
    "            rem = rem + i\n",
    "\n",
    "    if rem == num:\n",
    "        print(num,end=\" \")"
   ]
  },
  {
   "cell_type": "markdown",
   "id": "5f3d062b",
   "metadata": {},
   "source": [
    "**62. Write a program to find out maximum and minimum of some values using function which will return an array.**"
   ]
  },
  {
   "cell_type": "code",
   "execution_count": 44,
   "id": "4d04319c",
   "metadata": {},
   "outputs": [
    {
     "name": "stdout",
     "output_type": "stream",
     "text": [
      "Array is :  [1, 0, 8, 3, 9, 2, -5, -3, 2]\n",
      "Maximum Values is :  [9, 8, 3]\n",
      "Minimum Values is :  [0, -3, -5]\n"
     ]
    }
   ],
   "source": [
    "def max_min():\n",
    "    arr = [1, 0, 8, 3, 9, 2, -5, -3, 2]\n",
    "    print('Array is : ',arr)\n",
    "    for i in range(len(arr)):\n",
    "        for j in range(i+1,len(arr)):\n",
    "            if arr[i] < arr[j]:\n",
    "                temp = arr[i]\n",
    "                arr[i] = arr[j]\n",
    "                arr[j] = temp\n",
    "    return arr\n",
    "values = max_min()\n",
    "print('Maximum Values is : ',values[0:3])\n",
    "print('Minimum Values is : ',values[6:10])"
   ]
  },
  {
   "cell_type": "markdown",
   "id": "dfe55bd3",
   "metadata": {},
   "source": [
    "**63. Write a program to find the sum of the series 1!/1+2!/2+3!/3+4!/4+5!/5 using the function.**"
   ]
  },
  {
   "cell_type": "code",
   "execution_count": 45,
   "id": "10513358",
   "metadata": {},
   "outputs": [
    {
     "name": "stdout",
     "output_type": "stream",
     "text": [
      "Sum of the series is :  34.0\n"
     ]
    }
   ],
   "source": [
    "def facto(n):\n",
    "    temp = 1\n",
    "    for i in range(1,n+1):\n",
    "        temp = temp * i\n",
    "    return temp\n",
    "\n",
    "def series():\n",
    "    s = 0\n",
    "    for i in range(1,6):\n",
    "        f = facto(i)\n",
    "        s = s + f / i\n",
    "    return s\n",
    "\n",
    "print('Sum of the series is : ',series())"
   ]
  },
  {
   "cell_type": "markdown",
   "id": "624b032e",
   "metadata": {},
   "source": [
    "**64. Write a program to convert decimal number to binary number using the function.**"
   ]
  },
  {
   "cell_type": "code",
   "execution_count": 46,
   "id": "04eb2de0",
   "metadata": {},
   "outputs": [
    {
     "name": "stdout",
     "output_type": "stream",
     "text": [
      "Enter any number : 7\n",
      "\n",
      "Decimal Number : 7 -> Binary Number : 111\n"
     ]
    }
   ],
   "source": [
    "def decimal_to_binary(n):\n",
    "    s = []\n",
    "    temp = n\n",
    "    while n != 0:\n",
    "        rem = n % 2\n",
    "        s.append(rem)\n",
    "        n = n//2\n",
    "    s = s[::-1]\n",
    "    b = 0\n",
    "    for i in s:\n",
    "        b = b * 10 + i\n",
    "    return b,temp\n",
    "\n",
    "n = int(input('Enter any number : '))\n",
    "val,temp = decimal_to_binary(n)\n",
    "print('\\nDecimal Number : {} -> Binary Number : {}'.format(temp,val))"
   ]
  },
  {
   "cell_type": "markdown",
   "id": "6335a71f",
   "metadata": {},
   "source": [
    "# Switch programs"
   ]
  },
  {
   "cell_type": "markdown",
   "id": "14a2e5d4",
   "metadata": {},
   "source": [
    "**65. Write a program to read weekdays number and print weekday name using switch.**"
   ]
  },
  {
   "cell_type": "code",
   "execution_count": 48,
   "id": "55d2e48f",
   "metadata": {},
   "outputs": [
    {
     "name": "stdout",
     "output_type": "stream",
     "text": [
      "Enter day number : 5\n",
      "5 day is Friday.\n"
     ]
    }
   ],
   "source": [
    "switch = {\n",
    "    1 : 'Monday.',\n",
    "    2 : 'Tuesday.',\n",
    "    3 : 'Wednesday.',\n",
    "    4 : 'Thursday.',\n",
    "    5 : 'Friday.',\n",
    "    6 : 'Saturday.',\n",
    "    7 : 'Sunday.'\n",
    "}\n",
    "day = int(input('Enter day number : '))\n",
    "print(\"{} day is {}\".format(day, switch.get(day)))"
   ]
  },
  {
   "cell_type": "markdown",
   "id": "c2d60856",
   "metadata": {},
   "source": [
    "**66. Write a program to read gender and print corresponding gender using switch.**"
   ]
  },
  {
   "cell_type": "code",
   "execution_count": 11,
   "id": "c27c543d",
   "metadata": {},
   "outputs": [
    {
     "name": "stdout",
     "output_type": "stream",
     "text": [
      "Enter gender (Male/Female): Male\n",
      "The corresponding gender is: Male\n"
     ]
    }
   ],
   "source": [
    "gender = input(\"Enter gender (Male/Female): \")\n",
    "\n",
    "gender_dict = {'Male': 'Male', 'Female': 'Female'}\n",
    "\n",
    "if gender in gender_dict:\n",
    "    print(f\"The corresponding gender is: {gender_dict[gender]}\")\n",
    "else:\n",
    "    print(\"Invalid gender code. Please enter 'Male' for Male or 'Female' for Female.\")\n"
   ]
  },
  {
   "cell_type": "markdown",
   "id": "c67b84be",
   "metadata": {},
   "source": [
    "**67. Write a program to check whether a character is VOWEL or CONSONANT using switch.**"
   ]
  },
  {
   "cell_type": "code",
   "execution_count": 13,
   "id": "337d83d8",
   "metadata": {},
   "outputs": [
    {
     "name": "stdout",
     "output_type": "stream",
     "text": [
      "Enter a single character: d\n",
      "The character 'D' is a CONSONANT.\n"
     ]
    }
   ],
   "source": [
    "char = input(\"Enter a single character: \")\n",
    "char = char.upper()\n",
    "l = ['A', 'E', 'I', 'O', 'U']\n",
    "if char.isalpha() and len(char) == 1:\n",
    "    if char in l:\n",
    "        print(f\"The character '{char}' is a VOWEL.\")\n",
    "    else:\n",
    "        print(f\"The character '{char}' is a CONSONANT.\")\n",
    "else:\n",
    "    print(\"Invalid input.\")"
   ]
  },
  {
   "cell_type": "markdown",
   "id": "d675afa6",
   "metadata": {},
   "source": [
    "**68. Write a program to design calculator with basic operations using switch and also include features of scientific calculator.**"
   ]
  },
  {
   "cell_type": "code",
   "execution_count": 51,
   "id": "b59cb559",
   "metadata": {},
   "outputs": [
    {
     "name": "stdout",
     "output_type": "stream",
     "text": [
      "Trigonomatric functions : \n",
      "1. sin\n",
      "2. cos\n",
      "3. tan\n",
      "4. Square\n",
      "5. Cube\n",
      "6. Root\n",
      "7.Operations (+,-,/,*)\n",
      "\n",
      "Enter number (1,2,3,4,5,6,7,8)2\n",
      "\n",
      "Enter value of x : 45\n",
      "\n",
      "cos45 = 0.5253219888177297\n"
     ]
    }
   ],
   "source": [
    "import math\n",
    "\n",
    "print('Trigonomatric functions : ')\n",
    "print('1. sin')\n",
    "print('2. cos')\n",
    "print('3. tan')\n",
    "print('4. Square')\n",
    "print('5. Cube')\n",
    "print('6. Root')\n",
    "print('7.Operations (+,-,/,*)')\n",
    "\n",
    "number = int(input('\\nEnter number (1,2,3,4,5,6,7,8)'))\n",
    "if number == 1:\n",
    "    x = int(input('\\nEnter value of x : '))\n",
    "    print('\\nsin{} = {}'.format(x,math.sin(x)))\n",
    "elif number == 2:\n",
    "    x = int(input('\\nEnter value of x : '))\n",
    "    print('\\ncos{} = {}'.format(x,math.cos(x)))\n",
    "elif number == 3:\n",
    "    x = int(input('\\nEnter value of x : '))\n",
    "    print('\\ntan{} = {}'.format(x,math.tan(x)))\n",
    "elif number == 4:\n",
    "    x = int(input('\\nEnter value of x : '))\n",
    "    print('Square of {} is {}'.format(x,x**2))\n",
    "elif number == 5:\n",
    "    x = int(input('\\nEnter value of x : '))\n",
    "    print('Cube of {} is {}'.format(x,x**3))\n",
    "elif number == 6:\n",
    "    x = int(input('\\nEnter value of x : '))\n",
    "    print('Root of {} is {}'.format(x,math.sqrt(x)))\n",
    "elif number == 7:\n",
    "    num1 = int(input('Enter first number : '))\n",
    "    op = input('Enter Operator (+,-,/,*,%) : ')\n",
    "    num2 = int(input('Enter second number : '))\n",
    "    if op == '+':\n",
    "        print('{} + {} = {}'.format(num1,num2,num1+num2))\n",
    "    elif op == '-':\n",
    "        print('{} - {} = {}'.format(num1,num2,num1-num2))\n",
    "    elif op == '*':\n",
    "        print('{} x {} = {}'.format(num1,num2,num1*num2))\n",
    "    elif op == '/':\n",
    "        print('{} / {} = {}'.format(num1,num2,num1/num2))\n",
    "    elif op == '%':\n",
    "        print('{} % {} = {}'.format(num1,num2,num1%num2))\n",
    "    else:\n",
    "        print('Enter Valid Number...')\n",
    "else:\n",
    "    print('Enter Valid Number...')\n",
    "    "
   ]
  },
  {
   "cell_type": "markdown",
   "id": "8c957238",
   "metadata": {},
   "source": [
    "**69. Write a program to check whether number is even or odd using switch.**"
   ]
  },
  {
   "cell_type": "code",
   "execution_count": 52,
   "id": "a9335c39",
   "metadata": {},
   "outputs": [
    {
     "name": "stdout",
     "output_type": "stream",
     "text": [
      "Enter number : 4\n",
      "\n",
      "Number is Even.\n"
     ]
    }
   ],
   "source": [
    "num = int(input('Enter number : '))\n",
    "\n",
    "if num%2 == 0 :\n",
    "    num = 1\n",
    "else:\n",
    "    num = 0\n",
    "    \n",
    "switch = {\n",
    "    1 : '\\nNumber is Even.',\n",
    "    0 : '\\nNumber is Odd.'\n",
    "}\n",
    "print(switch.get(num))"
   ]
  },
  {
   "cell_type": "markdown",
   "id": "6442cb07",
   "metadata": {},
   "source": [
    "**70. Write a program to find the number of days in month using switch case.**"
   ]
  },
  {
   "cell_type": "code",
   "execution_count": 53,
   "id": "b115cd70",
   "metadata": {},
   "outputs": [
    {
     "name": "stdout",
     "output_type": "stream",
     "text": [
      "Enter month name (january,february,...): april\n",
      "april contain 30 days\n"
     ]
    }
   ],
   "source": [
    "switch = {\n",
    "    'january' : '31 days',\n",
    "    'february' : '28 or 29 days',\n",
    "    'march' : '31 days',\n",
    "    'april' : '30 days',\n",
    "    'may' : '31 days',\n",
    "    'june': '30 days',\n",
    "    'july' : '31 days',\n",
    "    'august' : '31 days',\n",
    "    'september' : '30 days',\n",
    "    'october' : '31 days',\n",
    "    'november' : '30 days',\n",
    "    'december' : '31 days'\n",
    "}\n",
    "month = input('Enter month name (january,february,...): ')\n",
    "print(\"{} contain {}\".format(month,switch.get(month,'Invalid')))"
   ]
  },
  {
   "cell_type": "markdown",
   "id": "f1b8ead4",
   "metadata": {},
   "source": [
    "**71. Write a program to find the maximum between two numbers using switch case.**"
   ]
  },
  {
   "cell_type": "code",
   "execution_count": 54,
   "id": "0bc3c09d",
   "metadata": {},
   "outputs": [
    {
     "name": "stdout",
     "output_type": "stream",
     "text": [
      "Enter first number : 5\n",
      "Enter second number : 3\n",
      "\n",
      "Number1 is larger then the number2.\n"
     ]
    }
   ],
   "source": [
    "num1 = int(input('Enter first number : '))\n",
    "num2 = int(input('Enter second number : '))\n",
    "\n",
    "if num1 > num2 :\n",
    "    num1 = 1\n",
    "else:\n",
    "    num1 = 0\n",
    "    \n",
    "switch = {\n",
    "    1 : '\\nNumber1 is larger then the number2.',\n",
    "    0 : '\\nNumber2 is larger then the number1.'\n",
    "}\n",
    "print(switch.get(num1))"
   ]
  },
  {
   "cell_type": "markdown",
   "id": "eeb0229a",
   "metadata": {},
   "source": [
    "**72. Write a program to check whether the number is positive, negative or zero using\n",
    "switch case.**"
   ]
  },
  {
   "cell_type": "code",
   "execution_count": 55,
   "id": "4d8deb71",
   "metadata": {},
   "outputs": [
    {
     "name": "stdout",
     "output_type": "stream",
     "text": [
      "Enter number : 4\n",
      "\n",
      "Number is Positive.\n"
     ]
    }
   ],
   "source": [
    "num = int(input('Enter number : '))\n",
    "if num == 0:\n",
    "    n = 0\n",
    "elif num < 0:\n",
    "    n = 1\n",
    "else:\n",
    "    n = 2\n",
    "switch = {\n",
    "    0 : '\\nNumber is Zero.',\n",
    "    1 : '\\nNumber is Negative.',\n",
    "    2 : '\\nNumber is Positive.'\n",
    "}\n",
    "print(switch.get(n))"
   ]
  },
  {
   "cell_type": "markdown",
   "id": "b15b290c",
   "metadata": {},
   "source": [
    "**73. Write a program to find roots of a quadratic equation using switch case.**"
   ]
  },
  {
   "cell_type": "code",
   "execution_count": null,
   "id": "fa088533",
   "metadata": {},
   "outputs": [],
   "source": []
  },
  {
   "cell_type": "markdown",
   "id": "bdc074a7",
   "metadata": {},
   "source": [
    "# Basic programs"
   ]
  },
  {
   "cell_type": "markdown",
   "id": "9ff041b2",
   "metadata": {},
   "source": [
    "**74. Write a program to convert specified days into years, weeks and days.**"
   ]
  },
  {
   "cell_type": "code",
   "execution_count": 56,
   "id": "c4ff4530",
   "metadata": {},
   "outputs": [
    {
     "name": "stdout",
     "output_type": "stream",
     "text": [
      "Enter Days : 56\n",
      "\n",
      "8.0 Weeks\n",
      "1.8666666666666667 Months\n",
      "0.15342465753424658 Year\n"
     ]
    }
   ],
   "source": [
    "days = int(input('Enter Days : '))\n",
    "\n",
    "weeks = days / 7\n",
    "month = days / 30\n",
    "year = days / 365\n",
    "print()\n",
    "print(weeks,'Weeks')\n",
    "print(month,'Months')\n",
    "print(year,'Year')"
   ]
  },
  {
   "cell_type": "markdown",
   "id": "bc964793",
   "metadata": {},
   "source": [
    "**75. Write a program that accepts an employee's ID, total worked hours of a month and\n",
    "the amount he received per hour. Print the employee's ID and salary (with two\n",
    "decimal places) of a particular month.**"
   ]
  },
  {
   "cell_type": "code",
   "execution_count": 57,
   "id": "1a213457",
   "metadata": {},
   "outputs": [
    {
     "name": "stdout",
     "output_type": "stream",
     "text": [
      "Enter employee's ID : 101\n",
      "Enter total worked hours of a month : 270\n",
      "Enter amount he received per hour : 300\n",
      "\n",
      "Employee's ID is 101 Total salary of a month is : 81000.0\n"
     ]
    }
   ],
   "source": [
    "e_id = input(\"Enter employee's ID : \")\n",
    "e_hours = float(input('Enter total worked hours of a month : '))\n",
    "e_sal = float(input('Enter amount he received per hour : '))\n",
    "\n",
    "total_sal = e_hours * e_sal\n",
    "\n",
    "\n",
    "print(\"\\nEmployee's ID is {} Total salary of a month is : {}\".format(e_id, total_sal))"
   ]
  },
  {
   "cell_type": "markdown",
   "id": "bac897a5",
   "metadata": {},
   "source": [
    "**76. Write a program to calculate the distance between the two points.**"
   ]
  },
  {
   "cell_type": "code",
   "execution_count": 58,
   "id": "5ef2f155",
   "metadata": {},
   "outputs": [
    {
     "name": "stdout",
     "output_type": "stream",
     "text": [
      "Enter Point A : 3\n",
      "Enter Point B : 0\n",
      "-3.0\n"
     ]
    }
   ],
   "source": [
    "pointA = float(input('Enter Point A : '))\n",
    "pointB = float(input('Enter Point B : '))\n",
    "\n",
    "if pointA > 0 and pointB > 0:\n",
    "    diff = pointB - pointA\n",
    "    print(diff)\n",
    "elif pointA < 0 and pointB < 0:\n",
    "    diff = pointB - pointA\n",
    "    print(diff)\n",
    "elif pointA < 0 and pointB > 0:\n",
    "    diff = pointB - pointA\n",
    "    print(diff)\n",
    "elif pointA > 0 and pointB < 0:\n",
    "    diff = pointB - pointA\n",
    "    print(diff)\n",
    "elif pointA == 0 and pointB == 0:\n",
    "    print('Distance is zero.')\n",
    "elif pointA == 0 and pointB < 0:\n",
    "    diff  = pointB - pointA\n",
    "    print(diff)\n",
    "elif pointA == 0 and pointB > 0:\n",
    "    diff  = pointB - pointA\n",
    "    print(diff)\n",
    "elif pointA < 0 and pointB == 0:\n",
    "    diff  = pointB - pointA\n",
    "    print(diff)\n",
    "elif pointA > 0 and pointB == 0:\n",
    "    diff  = pointB - pointA\n",
    "    print(diff)"
   ]
  },
  {
   "cell_type": "markdown",
   "id": "6cf40224",
   "metadata": {},
   "source": [
    "**77. Write a program to read an amount (integer value) and break the amount into smallest possible number of bank notes.**"
   ]
  },
  {
   "cell_type": "code",
   "execution_count": 27,
   "id": "186c9652",
   "metadata": {},
   "outputs": [
    {
     "name": "stdout",
     "output_type": "stream",
     "text": [
      "Enter the amount: 676\n",
      "500 rupee : 1 notes\n",
      "100 rupee : 1 notes\n",
      "50 rupee : 1 notes\n",
      "20 rupee : 1 notes\n",
      "5 rupee : 1 notes\n",
      "1 rupee : 1 notes\n"
     ]
    }
   ],
   "source": [
    "amount = int(input(\"Enter the amount: \"))\n",
    "\n",
    "l = [500, 100, 50, 20, 10, 5, 2, 1]\n",
    "\n",
    "note_count = {}\n",
    "\n",
    "for i in l:\n",
    "    count = amount // i\n",
    "    if count > 0:\n",
    "        note_count[i] = count\n",
    "        amount = amount % i\n",
    "\n",
    "for i, count in note_count.items():\n",
    "    print(\"{} rupee : {} notes\".format(i,count))"
   ]
  },
  {
   "cell_type": "markdown",
   "id": "e909d937",
   "metadata": {},
   "source": [
    "**78. Write a program to convert a given integer (in seconds) to hours, minutes and seconds.**"
   ]
  },
  {
   "cell_type": "code",
   "execution_count": 59,
   "id": "53a41751",
   "metadata": {},
   "outputs": [
    {
     "name": "stdout",
     "output_type": "stream",
     "text": [
      "Enter number : 40\n",
      "40 second = 0.6666666666666666 minutes\n",
      "40 second = 0.011111111111111112 hours\n"
     ]
    }
   ],
   "source": [
    "second = int(input('Enter number : '))\n",
    "\n",
    "minutes = second/60\n",
    "hours = second/3600\n",
    "print('{} second = {} minutes'.format(second,minutes))\n",
    "print('{} second = {} hours'.format(second,hours))"
   ]
  },
  {
   "cell_type": "markdown",
   "id": "925ba41d",
   "metadata": {},
   "source": [
    "**79. Write a program to convert a given integer (in days) to years, months and days,assumes that all months have 30 days and all years have 365 days.**"
   ]
  },
  {
   "cell_type": "code",
   "execution_count": 60,
   "id": "b4a7632c",
   "metadata": {},
   "outputs": [
    {
     "name": "stdout",
     "output_type": "stream",
     "text": [
      "Enter Days : 4\n",
      "\n",
      "0.5714285714285714 Weeks\n",
      "0.13333333333333333 Months\n",
      "0.010958904109589041 Year\n"
     ]
    }
   ],
   "source": [
    "days = int(input('Enter Days : '))\n",
    "\n",
    "weeks = days / 7\n",
    "month = days / 30\n",
    "year = days / 365\n",
    "print()\n",
    "print(weeks,'Weeks')\n",
    "print(month,'Months')\n",
    "print(year,'Year')"
   ]
  },
  {
   "cell_type": "markdown",
   "id": "ca8193ed",
   "metadata": {},
   "source": [
    "**80. Write a program that accepts 4 integers p, q, r, s from the user where r and s are\n",
    "positive and p is even. If q is greater than r and s is greater than p and if the sum of r\n",
    "and s is greater than the sum of p and q print \"Correct values\", otherwise print\n",
    "\"Wrong values\".**"
   ]
  },
  {
   "cell_type": "code",
   "execution_count": 61,
   "id": "331695f6",
   "metadata": {},
   "outputs": [
    {
     "name": "stdout",
     "output_type": "stream",
     "text": [
      "0 3 2 2\n",
      "0 4 2 3\n",
      "0 4 3 2\n",
      "0 4 3 3\n"
     ]
    }
   ],
   "source": [
    "for p in range(0,5):\n",
    "    for q in range(0,5):\n",
    "        for r in range(0,5):\n",
    "            for s in range(0,5):\n",
    "                if p%2 == 0 and r > 0 and s>0 and q > r and q > s and q > p and r+s > p+q:\n",
    "                    print(p,q,r,s)"
   ]
  },
  {
   "cell_type": "code",
   "execution_count": 63,
   "id": "6355767e",
   "metadata": {},
   "outputs": [
    {
     "name": "stdout",
     "output_type": "stream",
     "text": [
      "Enter p : 0\n",
      "Enter q : 4\n",
      "Enter r : 3\n",
      "Enter s : 3\n",
      "\n",
      "Correct values\n"
     ]
    }
   ],
   "source": [
    "p = int(input('Enter p : '))\n",
    "q = int(input('Enter q : '))\n",
    "r = int(input('Enter r : '))\n",
    "s = int(input('Enter s : '))\n",
    "\n",
    "if p%2 == 0 and r > 0 and s>0 and q > r and q > s and q > p and r+s > p+q:\n",
    "    print('\\nCorrect values')\n",
    "else:\n",
    "    print('\\nWrong values')"
   ]
  },
  {
   "cell_type": "markdown",
   "id": "a3ef6890",
   "metadata": {},
   "source": [
    "**81. Write a program that read 5 numbers and sum of all odd values between them.**"
   ]
  },
  {
   "cell_type": "code",
   "execution_count": 64,
   "id": "2499239f",
   "metadata": {},
   "outputs": [
    {
     "name": "stdout",
     "output_type": "stream",
     "text": [
      "Enter 5 numbers\n",
      "4\n",
      "2\n",
      "5\n",
      "7\n",
      "1\n",
      "Sum of all odd number in 5 numbers is :  13\n"
     ]
    }
   ],
   "source": [
    "l = []\n",
    "print('Enter 5 numbers')\n",
    "for i in range(1,6):\n",
    "    n = int(input())\n",
    "    l.append(n)\n",
    "print('Sum of all odd number in 5 numbers is : ',sum(list(filter(lambda x : x if x%2!=0 else '',l))))"
   ]
  },
  {
   "cell_type": "markdown",
   "id": "171f445f",
   "metadata": {},
   "source": [
    "**82. Write a program that prints all even numbers between 1 and 50 (inclusive).**"
   ]
  },
  {
   "cell_type": "code",
   "execution_count": 65,
   "id": "d8789a16",
   "metadata": {},
   "outputs": [
    {
     "name": "stdout",
     "output_type": "stream",
     "text": [
      "2\n",
      "4\n",
      "6\n",
      "8\n",
      "10\n",
      "12\n",
      "14\n",
      "16\n",
      "18\n",
      "20\n",
      "22\n",
      "24\n",
      "26\n",
      "28\n",
      "30\n",
      "32\n",
      "34\n",
      "36\n",
      "38\n",
      "40\n",
      "42\n",
      "44\n",
      "46\n",
      "48\n",
      "50\n"
     ]
    }
   ],
   "source": [
    "for i in range(1,51):\n",
    "    if i%2==0:\n",
    "        print(i)"
   ]
  },
  {
   "cell_type": "markdown",
   "id": "df72a969",
   "metadata": {},
   "source": [
    "**83. Write a program that read 5 numbers and counts the number of positive numbers\n",
    "and negative numbers.**"
   ]
  },
  {
   "cell_type": "code",
   "execution_count": 67,
   "id": "29857810",
   "metadata": {},
   "outputs": [
    {
     "name": "stdout",
     "output_type": "stream",
     "text": [
      "Enter 5 numbers : \n",
      "6\n",
      "5\n",
      "4\n",
      "3\n",
      "2\n",
      "Negative Number is :  0\n",
      "Positive Number is :  5\n"
     ]
    }
   ],
   "source": [
    "l = []\n",
    "print('Enter 5 numbers : ')\n",
    "for i in range(1,6):\n",
    "    n = int(input())\n",
    "    l.append(n)\n",
    "print('Negative Number is : ',len(list(filter(lambda x : x if x<0 else '',l))))\n",
    "print('Positive Number is : ',len(list(filter(lambda x : x if x>0 else '',l))))"
   ]
  },
  {
   "cell_type": "markdown",
   "id": "7bc673cb",
   "metadata": {},
   "source": [
    "**84. Write a program that read 5 numbers and counts the number of positive numbers\n",
    "and print the average of all positive values.**"
   ]
  },
  {
   "cell_type": "code",
   "execution_count": 68,
   "id": "591a5d4a",
   "metadata": {},
   "outputs": [
    {
     "name": "stdout",
     "output_type": "stream",
     "text": [
      "Enter Only 5 numbers : \n",
      "1\n",
      "7\n",
      "5\n",
      "4\n",
      "3\n",
      "Positive Numbers is :  [1, 7, 5, 4, 3]\n",
      "Average of Positive Number is :  4.0\n"
     ]
    }
   ],
   "source": [
    "l = []\n",
    "print('Enter Only 5 numbers : ')\n",
    "for i in range(1,6):\n",
    "    n = int(input())\n",
    "    l.append(n)\n",
    "\n",
    "postive_number = list(filter(lambda x : x if x>0 else '',l))\n",
    "print('Positive Numbers is : ',postive_number)\n",
    "print('Average of Positive Number is : ',sum(postive_number)/len(postive_number))"
   ]
  },
  {
   "cell_type": "markdown",
   "id": "bab9948f",
   "metadata": {},
   "source": [
    "**85. Write a program to find and print the square of each one of the even values from 1 to\n",
    "a specified value.**"
   ]
  },
  {
   "cell_type": "code",
   "execution_count": 70,
   "id": "6c39fde8",
   "metadata": {},
   "outputs": [
    {
     "name": "stdout",
     "output_type": "stream",
     "text": [
      "Enter number for (1 to a specified value.) : 10\n",
      "Even numbers is :  [2, 4, 6, 8, 10]\n",
      "The square of each one of the even values :  [4, 8, 12, 16, 20]\n"
     ]
    }
   ],
   "source": [
    "num = int(input('Enter number for (1 to a specified value.) : '))\n",
    "even = []\n",
    "for i in range(1,num+1):\n",
    "    if i%2==0:\n",
    "        even.append(i)\n",
    "sqr = list(map(lambda x :x*2,even))\n",
    "print('Even numbers is : ',even)\n",
    "print('The square of each one of the even values : ',sqr)"
   ]
  },
  {
   "cell_type": "markdown",
   "id": "11805096",
   "metadata": {},
   "source": [
    "**86. Write a program to check whether a given integer is positive even, negative even,\n",
    "positive odd or negative odd. Print even if the number is 0.**"
   ]
  },
  {
   "cell_type": "code",
   "execution_count": 71,
   "id": "e0a6c6db",
   "metadata": {},
   "outputs": [
    {
     "name": "stdout",
     "output_type": "stream",
     "text": [
      "Enter number : 5\n"
     ]
    },
    {
     "data": {
      "text/plain": [
       "'Positive Odd'"
      ]
     },
     "execution_count": 71,
     "metadata": {},
     "output_type": "execute_result"
    }
   ],
   "source": [
    "num = int(input('Enter number : '))\n",
    "\n",
    "a = lambda x : (lambda y : 'Positive even' if y%2==0 else 'Positive Odd') if x > 0 else (lambda y : 'Negative even' if y%2==0 else 'Negative Odd')\n",
    "b = a(num)\n",
    "b(num)"
   ]
  },
  {
   "cell_type": "markdown",
   "id": "cbf6722f",
   "metadata": {},
   "source": [
    "**87. Write a program to print all numbers between 1 to 100 which divided by a specified\n",
    "number and the remainder will be 3.**"
   ]
  },
  {
   "cell_type": "code",
   "execution_count": 21,
   "id": "b0f16fbd",
   "metadata": {},
   "outputs": [
    {
     "name": "stdout",
     "output_type": "stream",
     "text": [
      "3\n",
      "10\n",
      "17\n",
      "24\n",
      "31\n",
      "38\n",
      "45\n",
      "52\n",
      "59\n",
      "66\n",
      "73\n",
      "80\n",
      "87\n",
      "94\n"
     ]
    }
   ],
   "source": [
    "num = 7\n",
    "for i in range(1,101):\n",
    "    if i % 7 == 3:\n",
    "        print(i)"
   ]
  },
  {
   "cell_type": "markdown",
   "id": "dd67880d",
   "metadata": {},
   "source": [
    "**88. Write a program that accepts some integers from the user and find the highest value\n",
    "and the input position.**"
   ]
  },
  {
   "cell_type": "code",
   "execution_count": null,
   "id": "3dd27d6e",
   "metadata": {},
   "outputs": [],
   "source": []
  },
  {
   "cell_type": "code",
   "execution_count": 73,
   "id": "dd44e6dc",
   "metadata": {},
   "outputs": [
    {
     "name": "stdout",
     "output_type": "stream",
     "text": [
      "Enter 5 numbers : \n",
      "7\n",
      "5\n",
      "4\n",
      "3\n",
      "2\n",
      "Highest Value :  7\n",
      "Input Position :  8885512\n"
     ]
    }
   ],
   "source": [
    "new = []\n",
    "print('Enter 5 numbers : ')\n",
    "for i in range(5):\n",
    "    num = int(input())\n",
    "    new.append(num)\n",
    "print('Highest Value : ',max(new))\n",
    "print('Input Position : ',id(max(new)))"
   ]
  },
  {
   "cell_type": "markdown",
   "id": "081cbda9",
   "metadata": {},
   "source": [
    "**89. Write a program to read a password until it is correct. For wrong password print\n",
    "\"Incorrect password\" and for correct password print \"Correct password\" and quit the\n",
    "program. The correct password is 1234.**"
   ]
  },
  {
   "cell_type": "code",
   "execution_count": 75,
   "id": "dbe6e881",
   "metadata": {},
   "outputs": [
    {
     "name": "stdout",
     "output_type": "stream",
     "text": [
      "Enter Password : 1234\n",
      "Correct password\n"
     ]
    }
   ],
   "source": [
    "password = int(input('Enter Password : '))\n",
    "\n",
    "if password == 1234:\n",
    "    print('Correct password')\n",
    "else:\n",
    "    print('Incorrect password')"
   ]
  },
  {
   "cell_type": "markdown",
   "id": "81641262",
   "metadata": {},
   "source": [
    "**90. Write a program to read the coordinates(x, y) (in Cartesian system) and find the\n",
    "quadrant to which it belongs (Quadrant -I, Quadrant -II, Quadrant -III, Quadrant -IV).**"
   ]
  },
  {
   "cell_type": "code",
   "execution_count": 76,
   "id": "316336da",
   "metadata": {},
   "outputs": [
    {
     "name": "stdout",
     "output_type": "stream",
     "text": [
      "Enter value of x : 5\n",
      "Enter value of y : 0\n",
      "5.0 and 0.0 present in X-axis\n"
     ]
    }
   ],
   "source": [
    "x = float(input('Enter value of x : '))\n",
    "y = float(input('Enter value of y : '))\n",
    "\n",
    "if x > 0 and y > 0:\n",
    "    print('{} and {} present in Quadrant - I'.format(x,y))\n",
    "elif x < 0 and y > 0:\n",
    "    print('{} and {} present in Quadrant - II'.format(x,y))\n",
    "elif x < 0 and y < 0:\n",
    "    print('{} and {} present in Quadrant - III'.format(x,y))\n",
    "elif x > 0 and y < 0:\n",
    "    print('{} and {} present in Quadrant - IV'.format(x,y))\n",
    "elif x == 0 and y == 0:\n",
    "    print('Origin')\n",
    "elif x == 0 and y > 0:\n",
    "    print('{} and {} present in Y-axis'.format(x,y))\n",
    "elif y == 0 and x > 0:\n",
    "    print('{} and {} present in X-axis'.format(x,y))\n",
    "    \n",
    "elif x == 0 and y < 0:\n",
    "    print('{} and {} present in Negative Y-axis'.format(x,y))\n",
    "elif y == 0 and x < 0:\n",
    "    print('{} and {} present in Negative X-axis'.format(x,y))\n",
    "else:\n",
    "    print('Enter Valid NUmber...')"
   ]
  },
  {
   "cell_type": "markdown",
   "id": "e6c116c7",
   "metadata": {},
   "source": [
    "**91. Write a program that reads two numbers and divide the first number by second\n",
    "number. If the division not possible print \"Division not possible\".**"
   ]
  },
  {
   "cell_type": "code",
   "execution_count": 77,
   "id": "57e01090",
   "metadata": {},
   "outputs": [
    {
     "name": "stdout",
     "output_type": "stream",
     "text": [
      "Enter first number : 4\n",
      "Enter second number : 3\n",
      "Division possible\n"
     ]
    }
   ],
   "source": [
    "num1 = float(input('Enter first number : '))\n",
    "num2  = float(input('Enter second number : '))\n",
    "\n",
    "if  num2 == 0:\n",
    "    print('Division not possible')\n",
    "else:\n",
    "    print('Division possible')"
   ]
  },
  {
   "cell_type": "markdown",
   "id": "3299068e",
   "metadata": {},
   "source": [
    "**92. Write a program to find all numbers which are dividing by 7 and the remainder is\n",
    "equal to 2 or 3 between two given integer numbers.**"
   ]
  },
  {
   "cell_type": "code",
   "execution_count": 78,
   "id": "469b2587",
   "metadata": {},
   "outputs": [
    {
     "name": "stdout",
     "output_type": "stream",
     "text": [
      "14\n",
      "15\n",
      "16\n",
      "17\n",
      "18\n",
      "19\n",
      "20\n",
      "21\n"
     ]
    }
   ],
   "source": [
    "for i in range(100):\n",
    "    rem = i/7\n",
    "    if rem>=2 and rem<=3:\n",
    "        print(i)"
   ]
  },
  {
   "cell_type": "markdown",
   "id": "6c3a3c90",
   "metadata": {},
   "source": [
    "**93. Write a program to print 3 numbers in a line, starting from 1 and print n lines. Accept\n",
    "number of lines (n, integer) from the user.**"
   ]
  },
  {
   "cell_type": "code",
   "execution_count": 31,
   "id": "31ad936d",
   "metadata": {},
   "outputs": [
    {
     "name": "stdout",
     "output_type": "stream",
     "text": [
      "Enter the number of lines: 4\n",
      "1 2 3 \n",
      "4 5 6 \n",
      "7 8 9 \n",
      "10 11 12 \n"
     ]
    }
   ],
   "source": [
    "n = int(input(\"Enter the number of lines: \"))\n",
    "\n",
    "number = 1\n",
    "\n",
    "for i in range(1, n + 1):\n",
    "    for j in range(3):\n",
    "        print(number, end=\" \")\n",
    "        number = number + 1\n",
    "    print()"
   ]
  },
  {
   "cell_type": "markdown",
   "id": "f5c291c4",
   "metadata": {},
   "source": [
    "# Pointer programs"
   ]
  },
  {
   "cell_type": "markdown",
   "id": "d920bf0f",
   "metadata": {},
   "source": [
    "# String Programs"
   ]
  },
  {
   "cell_type": "markdown",
   "id": "be08689e",
   "metadata": {},
   "source": [
    "**110. Write a program to input a string and print it.**"
   ]
  },
  {
   "cell_type": "code",
   "execution_count": 31,
   "id": "0e267867",
   "metadata": {},
   "outputs": [
    {
     "name": "stdout",
     "output_type": "stream",
     "text": [
      "Input String : AJay\n",
      "Input String is :  AJay\n"
     ]
    }
   ],
   "source": [
    "input_string = input('Input String : ')\n",
    "print('Input String is : ',input_string)"
   ]
  },
  {
   "cell_type": "markdown",
   "id": "cfb8da34",
   "metadata": {},
   "source": [
    "**111. Write a program to find the length of a string without using library function.**"
   ]
  },
  {
   "cell_type": "code",
   "execution_count": 81,
   "id": "9df03e66",
   "metadata": {},
   "outputs": [
    {
     "name": "stdout",
     "output_type": "stream",
     "text": [
      "Length of 'Ajay Moladiya' is : 13\n"
     ]
    }
   ],
   "source": [
    "string = 'Ajay Moladiya'\n",
    "c=0\n",
    "for i in string:\n",
    "    c = c+1\n",
    "    \n",
    "print(\"Length of '{}' is : {}\".format(string,c))"
   ]
  },
  {
   "cell_type": "markdown",
   "id": "f45f78d1",
   "metadata": {},
   "source": [
    "**112. Write a program to separate the individual characters from a string.**"
   ]
  },
  {
   "cell_type": "code",
   "execution_count": 82,
   "id": "177966d1",
   "metadata": {},
   "outputs": [
    {
     "name": "stdout",
     "output_type": "stream",
     "text": [
      "A\n",
      "j\n",
      "a\n",
      "y\n",
      " \n",
      "M\n",
      "o\n",
      "l\n",
      "a\n",
      "d\n",
      "i\n",
      "y\n",
      "a\n"
     ]
    }
   ],
   "source": [
    "string = 'Ajay Moladiya'\n",
    "\n",
    "for i in string:\n",
    "    print(i)"
   ]
  },
  {
   "cell_type": "markdown",
   "id": "187e25a5",
   "metadata": {},
   "source": [
    "**113. Write a program to print individual characters of string in reverse order.**"
   ]
  },
  {
   "cell_type": "code",
   "execution_count": 83,
   "id": "5dd55af2",
   "metadata": {},
   "outputs": [
    {
     "name": "stdout",
     "output_type": "stream",
     "text": [
      "Characters of string in reverse order :  ['a', 'y', 'i', 'd', 'a', 'l', 'o', 'M', ' ', 'y', 'a', 'j', 'A']\n"
     ]
    }
   ],
   "source": [
    "string = 'Ajay Moladiya'\n",
    "l = []\n",
    "for i in string:\n",
    "    l.append(i)\n",
    "print('Characters of string in reverse order : ',l[::-1])"
   ]
  },
  {
   "cell_type": "markdown",
   "id": "f7c58db2",
   "metadata": {},
   "source": [
    "**114. Write a program to compare two string without using string library functions.**"
   ]
  },
  {
   "cell_type": "code",
   "execution_count": 84,
   "id": "57d6b57e",
   "metadata": {},
   "outputs": [
    {
     "name": "stdout",
     "output_type": "stream",
     "text": [
      "'Ajaym' and 'Ajay' Not Same\n"
     ]
    }
   ],
   "source": [
    "string1 = 'Ajaym'\n",
    "string2 = 'Ajay'\n",
    "\n",
    "if string1 == string2:\n",
    "    print(\"'{}' and '{}' is Same\".format(string1, string2))\n",
    "else:\n",
    "    print(\"'{}' and '{}' Not Same\".format(string1, string2))"
   ]
  },
  {
   "cell_type": "markdown",
   "id": "0d03315c",
   "metadata": {},
   "source": [
    "**116. Write a program to sort a string array in ascending order.**"
   ]
  },
  {
   "cell_type": "code",
   "execution_count": 85,
   "id": "94012edb",
   "metadata": {},
   "outputs": [],
   "source": [
    "import numpy as np\n",
    "\n",
    "s_arr = np.array(['Ajay','Monark','Prashant','Keval'])\n",
    "\n",
    "s_arr.sort()"
   ]
  },
  {
   "cell_type": "code",
   "execution_count": 86,
   "id": "76714b92",
   "metadata": {},
   "outputs": [
    {
     "data": {
      "text/plain": [
       "array(['Ajay', 'Keval', 'Monark', 'Prashant'], dtype='<U8')"
      ]
     },
     "execution_count": 86,
     "metadata": {},
     "output_type": "execute_result"
    }
   ],
   "source": [
    "s_arr"
   ]
  },
  {
   "cell_type": "markdown",
   "id": "b37a11fe",
   "metadata": {},
   "source": [
    "**117. Write a program to demonstrate strcat**"
   ]
  },
  {
   "cell_type": "code",
   "execution_count": null,
   "id": "f2241cd5",
   "metadata": {},
   "outputs": [],
   "source": []
  },
  {
   "cell_type": "markdown",
   "id": "e2264a14",
   "metadata": {},
   "source": [
    "**118. Write a program to demonstrate the working of strrchr()**"
   ]
  },
  {
   "cell_type": "markdown",
   "id": "2942e815",
   "metadata": {},
   "source": [
    "**119. Write a program to illustrate strcpy() function.**"
   ]
  },
  {
   "cell_type": "markdown",
   "id": "fb4ade3f",
   "metadata": {},
   "source": [
    "# Class and object programs"
   ]
  },
  {
   "cell_type": "markdown",
   "id": "8c707b27",
   "metadata": {},
   "source": [
    "**120. Create a class named 'Student' with a string variable 'name' and an integer variable\n",
    "'roll_no'. Assign the value of roll_no as '2' and that of name as \"xyz\" by creating an\n",
    "object of the class Student.**"
   ]
  },
  {
   "cell_type": "code",
   "execution_count": 87,
   "id": "ec30600f",
   "metadata": {},
   "outputs": [],
   "source": [
    "class Student:\n",
    "    name = 'xyz'\n",
    "    roll_no = 2\n",
    "s = Student()"
   ]
  },
  {
   "cell_type": "code",
   "execution_count": 88,
   "id": "171716b9",
   "metadata": {},
   "outputs": [
    {
     "data": {
      "text/plain": [
       "('xyz', 2)"
      ]
     },
     "execution_count": 88,
     "metadata": {},
     "output_type": "execute_result"
    }
   ],
   "source": [
    "s.name , s.roll_no"
   ]
  },
  {
   "cell_type": "markdown",
   "id": "3605e84c",
   "metadata": {},
   "source": [
    "**121. Assign and print the roll number, phone number and address of two students\n",
    "having names \"xyz\" and \"abc\" respectively by creating two objects of the class\n",
    "'Student'.**"
   ]
  },
  {
   "cell_type": "code",
   "execution_count": 89,
   "id": "d8a3fa36",
   "metadata": {},
   "outputs": [],
   "source": [
    "class Student():\n",
    "    name = 'xyz'\n",
    "    roll_no = 2\n",
    "    phone_no = 9867785678\n",
    "    \n",
    "    name1 = 'abc'\n",
    "    roll_no1 = 1\n",
    "    phone_no1 = 9078897889\n",
    "a = Student()\n",
    "b = Student()"
   ]
  },
  {
   "cell_type": "code",
   "execution_count": 90,
   "id": "40b36719",
   "metadata": {},
   "outputs": [
    {
     "data": {
      "text/plain": [
       "'xyz'"
      ]
     },
     "execution_count": 90,
     "metadata": {},
     "output_type": "execute_result"
    }
   ],
   "source": [
    "a.name"
   ]
  },
  {
   "cell_type": "code",
   "execution_count": 91,
   "id": "24d01cee",
   "metadata": {},
   "outputs": [
    {
     "data": {
      "text/plain": [
       "'abc'"
      ]
     },
     "execution_count": 91,
     "metadata": {},
     "output_type": "execute_result"
    }
   ],
   "source": [
    "a.name1"
   ]
  },
  {
   "cell_type": "code",
   "execution_count": 92,
   "id": "69626d6d",
   "metadata": {},
   "outputs": [
    {
     "data": {
      "text/plain": [
       "'xyz'"
      ]
     },
     "execution_count": 92,
     "metadata": {},
     "output_type": "execute_result"
    }
   ],
   "source": [
    "b.name"
   ]
  },
  {
   "cell_type": "markdown",
   "id": "f42c9ad7",
   "metadata": {},
   "source": [
    "**122. Write a program to print the area and perimeter of a triangle having sides of 3, 4\n",
    "and 5 units by creating a class named 'Triangle' with a function to print the area and\n",
    "perimeter.**"
   ]
  },
  {
   "cell_type": "code",
   "execution_count": 93,
   "id": "2de6daca",
   "metadata": {},
   "outputs": [
    {
     "name": "stdout",
     "output_type": "stream",
     "text": [
      "Area of the triangle :  6.0\n",
      "Perimeter of the triangle : 12\n"
     ]
    }
   ],
   "source": [
    "import math\n",
    "class Triangle:\n",
    "    def area(self,a,b,c):\n",
    "        s = (a + b + c) / 2\n",
    "        a = math.sqrt(s * (s - a) * (s - b) * (s - c))\n",
    "        return a\n",
    "    def perimeter(self,a,b,c):\n",
    "        peri = a + b + c\n",
    "        return peri\n",
    "\n",
    "obj = Triangle()\n",
    "area = obj.area(3, 4, 5)\n",
    "perimeter = obj.perimeter(3,4,5)\n",
    "\n",
    "print(f\"Area of the triangle : \",area)\n",
    "print(f\"Perimeter of the triangle :\",perimeter)"
   ]
  },
  {
   "cell_type": "markdown",
   "id": "6c9e0562",
   "metadata": {},
   "source": [
    "**123.Write a program to print the area and perimeter of a triangle having sides of 3, 4\n",
    "and 5 units by creating a class named 'Triangle' with the constructor having the\n",
    "three sides as its parameters.**"
   ]
  },
  {
   "cell_type": "code",
   "execution_count": 94,
   "id": "9e212846",
   "metadata": {},
   "outputs": [
    {
     "name": "stdout",
     "output_type": "stream",
     "text": [
      "Area of the triangle :  6.0\n",
      "Perimeter of the triangle : 12\n"
     ]
    }
   ],
   "source": [
    "import math\n",
    "class Triangle:\n",
    "    def __init__(self, a, b, c):\n",
    "        self.a = a\n",
    "        self.b = b\n",
    "        self.c = c\n",
    "    def area(self):\n",
    "        s = (self.a + self.b + self.c) / 2\n",
    "        a = math.sqrt(s * (s - self.a) * (s - self.b) * (s - self.c))\n",
    "        return a\n",
    "    def perimeter(self):\n",
    "        peri = self.a + self.b + self.c\n",
    "        return peri\n",
    "    def print_f(self):\n",
    "        area = self.area()\n",
    "        perimeter = self.perimeter()\n",
    "        print(f\"Area of the triangle : \",area)\n",
    "        print(f\"Perimeter of the triangle :\",perimeter)\n",
    "\n",
    "obj = Triangle(3, 4, 5)\n",
    "obj.print_f()"
   ]
  },
  {
   "cell_type": "markdown",
   "id": "06b71308",
   "metadata": {},
   "source": [
    "**124. Write a program to print the area of two rectangles having sides (4,5) and (5,8)\n",
    "respectively by creating a class named 'Rectangle' with a function named 'Area'\n",
    "which returns the area. Length and breadth are passed as parameters to its\n",
    "constructor.**"
   ]
  },
  {
   "cell_type": "code",
   "execution_count": 95,
   "id": "2e439200",
   "metadata": {},
   "outputs": [
    {
     "name": "stdout",
     "output_type": "stream",
     "text": [
      "Area of Ractangle 1 is : 20\n",
      "Area of Ractangle 2 is :  40\n"
     ]
    }
   ],
   "source": [
    "class Rectangle:\n",
    "    def __init__(self,l,b):\n",
    "        self.l = l\n",
    "        self.b = b\n",
    "    def Area(self):\n",
    "        a = self.b*self.l\n",
    "        return a\n",
    "    \n",
    "r1 = Rectangle(4,5)\n",
    "r2 = Rectangle(5,8)\n",
    "print('Area of Ractangle 1 is :',r1.Area())\n",
    "print('Area of Ractangle 2 is : ',r2.Area())"
   ]
  },
  {
   "cell_type": "markdown",
   "id": "b570ec60",
   "metadata": {},
   "source": [
    "**125. Print the average of three numbers entered by the user by creating a class named\n",
    "'Average' having a function to calculate and print the average without creating any\n",
    "object of the Average class.**"
   ]
  },
  {
   "cell_type": "code",
   "execution_count": 1,
   "id": "1b5d9b31",
   "metadata": {},
   "outputs": [
    {
     "name": "stdout",
     "output_type": "stream",
     "text": [
      "Enter the first number: 5\n",
      "Enter the second number: 3\n",
      "Enter the third number: 9\n",
      "\n",
      "Average: 5.666666666666667\n"
     ]
    }
   ],
   "source": [
    "class Average:\n",
    "    def calculate_and_print_average():\n",
    "        num1 = float(input(\"Enter the first number: \"))\n",
    "        num2 = float(input(\"Enter the second number: \"))\n",
    "        num3 = float(input(\"Enter the third number: \"))\n",
    "        avg = (num1 + num2 + num3) / 3\n",
    "        print(\"\\nAverage:\", avg)\n",
    "\n",
    "Average.calculate_and_print_average()"
   ]
  },
  {
   "cell_type": "markdown",
   "id": "b9d459a9",
   "metadata": {},
   "source": [
    "**126. Write a program that would print the information (name, year of joining, salary,\n",
    "address) of three employees by creating a class named 'Employee'. The output\n",
    "should be as follows: Name Year of joining Address xyz 2000 Facebook tower abc\n",
    "2015 google stree**"
   ]
  },
  {
   "cell_type": "code",
   "execution_count": 2,
   "id": "d9907732",
   "metadata": {},
   "outputs": [
    {
     "name": "stdout",
     "output_type": "stream",
     "text": [
      "Enter the name : Ajay\n",
      "Enter the joining year : 2023\n",
      "Enter Address: Petpooja\n",
      "\n",
      "Ajay 2023 Petpooja\n"
     ]
    }
   ],
   "source": [
    "class Employee:\n",
    "    name = input(\"Enter the name : \")\n",
    "    year = int(input(\"Enter the joining year : \"))\n",
    "    join = input(\"Enter Address: \")\n",
    "    \n",
    "    print('\\n{} {} {}'.format(name,year,join))"
   ]
  },
  {
   "cell_type": "markdown",
   "id": "77a1fa70",
   "metadata": {},
   "source": [
    "**127. Write a program by creating an 'Employee' class having the following functions and\n",
    "print the final salary.\n",
    "1 - 'getInfo()' which takes the salary, number of hours of work per day of employee\n",
    "as parameters\n",
    "2 - 'AddSal()' which adds 1000 to the salary of the employee if it is less than 5000.\n",
    "3 - 'AddWork()' which adds 500 to the salary of the employee if the number of\n",
    "hours of work per day is more than 6 hours.**"
   ]
  },
  {
   "cell_type": "code",
   "execution_count": 3,
   "id": "5a9938bd",
   "metadata": {},
   "outputs": [
    {
     "name": "stdout",
     "output_type": "stream",
     "text": [
      "Enter Salary : 10000\n",
      "Enter hours of work per day : 9\n",
      "Salary is :  10000\n",
      "Input Number of hours is 9 is more than 6 hours , Adds 500 to the salary , Total salary is : 10500\n"
     ]
    }
   ],
   "source": [
    "class Employee:\n",
    "    \n",
    "    def getinfo(self,sal,hours):\n",
    "        self.sal = sal\n",
    "        self.hours = hours\n",
    "    def Addsal(self):\n",
    "        if self.sal < 5000:\n",
    "            sal = self.sal + 1000\n",
    "            print('Input Salary is {} is less than 5000 , Adds 1000 to the salary , Total Salary is : {}'.format(self.sal,sal))\n",
    "        else:\n",
    "            print('Salary is : ',self.sal)\n",
    "    def AddWork(self):\n",
    "        if hours > 6:\n",
    "            sal = self.sal + 500\n",
    "            print('Input Number of hours is {} is more than 6 hours , Adds 500 to the salary , Total salary is : {}'.format(self.hours,sal))\n",
    "        else:\n",
    "            print('Salary is : ',self.sal)\n",
    "        \n",
    "e = Employee()\n",
    "sal = int(input('Enter Salary : '))\n",
    "hours = int(input('Enter hours of work per day : '))\n",
    "e.getinfo(sal,hours)\n",
    "e.Addsal()\n",
    "e.AddWork()"
   ]
  },
  {
   "cell_type": "markdown",
   "id": "4d71ecc6",
   "metadata": {},
   "source": [
    "**128. Create a class with a function that prints \"This is parent class\" and its subclass with\n",
    "another function that prints \"This is child class\". Now, create an object for each\n",
    "class and call 1 - function of the parent class by the object of the parent class 2 -\n",
    "function of the child class by the object of the child class 3 - function of the parent\n",
    "class by the object of the child class**"
   ]
  },
  {
   "cell_type": "code",
   "execution_count": 4,
   "id": "e951aa65",
   "metadata": {},
   "outputs": [],
   "source": [
    "class A:\n",
    "    def a(self):\n",
    "        print('This is Parent class')\n",
    "class B(A):\n",
    "    def b(self):\n",
    "        print('This is child class')"
   ]
  },
  {
   "cell_type": "code",
   "execution_count": 5,
   "id": "6040b03e",
   "metadata": {},
   "outputs": [],
   "source": [
    "a = A() # parent class object\n",
    "b = B() # child class object"
   ]
  },
  {
   "cell_type": "code",
   "execution_count": 6,
   "id": "dfc72208",
   "metadata": {},
   "outputs": [
    {
     "name": "stdout",
     "output_type": "stream",
     "text": [
      "This is Parent class\n"
     ]
    }
   ],
   "source": [
    "a.a() # parent class & parent object"
   ]
  },
  {
   "cell_type": "code",
   "execution_count": 7,
   "id": "239ca1a0",
   "metadata": {},
   "outputs": [
    {
     "name": "stdout",
     "output_type": "stream",
     "text": [
      "This is child class\n"
     ]
    }
   ],
   "source": [
    "b.b() # child class and child object"
   ]
  },
  {
   "cell_type": "code",
   "execution_count": 8,
   "id": "14403a10",
   "metadata": {},
   "outputs": [
    {
     "name": "stdout",
     "output_type": "stream",
     "text": [
      "This is Parent class\n"
     ]
    }
   ],
   "source": [
    "b.a() # parent class and child object"
   ]
  },
  {
   "cell_type": "markdown",
   "id": "189dbcf7",
   "metadata": {},
   "source": [
    "**129. Create a class named 'Member' having the following members: Data members 1 -\n",
    "Name 2 - Age 3 - Phone number 4 - Address It also has a function named\n",
    "'printSalary' which prints the salary of the members. Two classes 'Employee' and\n",
    "'Manager' inherits the 'Member' class. The 'Employee' and 'Manager' classes have\n",
    "data members 'specialization' and 'department' respectively. Now, assign name,\n",
    "age, phone number, address and salary to an employee and a manager by making\n",
    "an object of both of these classes and print the same.**"
   ]
  },
  {
   "cell_type": "code",
   "execution_count": 52,
   "id": "cf38f5cd",
   "metadata": {},
   "outputs": [],
   "source": [
    "class Member:\n",
    "    def __init__(self, name, age, phone_number, address):\n",
    "        self.name = name\n",
    "        self.age = age\n",
    "        self.phone_number = phone_number\n",
    "        self.address = address\n",
    "\n",
    "    def printSalary(self):\n",
    "        pass\n",
    "\n",
    "class Employee(Member):\n",
    "    def __init__(self, name, age, phone_number, address, specialization, salary):\n",
    "        super().__init__(name, age, phone_number, address)\n",
    "        self.specialization = specialization\n",
    "        self.salary = salary\n",
    "\n",
    "    def printSalary(self):\n",
    "        print(\"Salary : {}\".format(self.salary))\n",
    "\n",
    "class Manager(Member):\n",
    "    def __init__(self, name, age, phone_number, address, department, salary):\n",
    "        super().__init__(name, age, phone_number, address)\n",
    "        self.department = department\n",
    "        self.salary = salary\n",
    "\n",
    "    def printSalary(self):\n",
    "        print(\"Salary : {}\".format(self.salary))"
   ]
  },
  {
   "cell_type": "code",
   "execution_count": 53,
   "id": "07eebc82",
   "metadata": {},
   "outputs": [],
   "source": [
    "e = Employee('Ajay',21,9510618897,'Paras Nagar','Data Science',500)"
   ]
  },
  {
   "cell_type": "code",
   "execution_count": 54,
   "id": "d404a572",
   "metadata": {},
   "outputs": [],
   "source": [
    "m = Manager('Ajay',21,9510618897,'Paras Nagar','Data Science',5000)"
   ]
  },
  {
   "cell_type": "code",
   "execution_count": 56,
   "id": "e3724050",
   "metadata": {},
   "outputs": [
    {
     "name": "stdout",
     "output_type": "stream",
     "text": [
      "Employee Details:\n",
      "Name: Ajay\n",
      "Age: 21\n",
      "Phone Number: 9510618897\n",
      "Address: Paras Nagar\n",
      "Specialization: Data Science\n",
      "Salary : 500\n",
      "\n",
      "Manager Details:\n",
      "Name: Ajay\n",
      "Age: 21\n",
      "Phone Number: 9510618897\n",
      "Address: Paras Nagar\n",
      "Department: Data Science\n",
      "Salary : 5000\n"
     ]
    }
   ],
   "source": [
    "print(\"Employee Details:\")\n",
    "print(\"Name:\", e.name)\n",
    "print(\"Age:\", e.age)\n",
    "print(\"Phone Number:\", e.phone_number)\n",
    "print(\"Address:\", e.address)\n",
    "print(\"Specialization:\", e.specialization)\n",
    "e.printSalary()\n",
    "\n",
    "print(\"\\nManager Details:\")\n",
    "print(\"Name:\", m.name)\n",
    "print(\"Age:\", m.age)\n",
    "print(\"Phone Number:\", m.phone_number)\n",
    "print(\"Address:\", m.address)\n",
    "print(\"Department:\", m.department)\n",
    "m.printSalary()"
   ]
  },
  {
   "cell_type": "markdown",
   "id": "7ac5f3b9",
   "metadata": {},
   "source": [
    "**130. Create a class named 'Rectangle' with two data members 'length' and 'breadth' and\n",
    "two functions to print the area and perimeter of the rectangle respectively. Its\n",
    "constructor having parameters for length and breadth is used to initialize the length\n",
    "and breadth of the rectangle. Let class 'Square' inherit the 'Rectangle' class with its\n",
    "constructor having a parameter for its side (suppose s) calling the constructor of its\n",
    "parent class. Print the area and perimeter of a rectangle and a square.**"
   ]
  },
  {
   "cell_type": "code",
   "execution_count": 59,
   "id": "6cc625b8",
   "metadata": {},
   "outputs": [
    {
     "name": "stdout",
     "output_type": "stream",
     "text": [
      "Rectangle Details:\n",
      "Length: 6\n",
      "Breadth: 12\n",
      "Area: 72\n",
      "Perimeter: 36\n",
      "\n",
      "Square Details:\n",
      "Side: 4\n",
      "Area: 16\n",
      "Perimeter: 16\n"
     ]
    }
   ],
   "source": [
    "class Rectangle:\n",
    "    def __init__(self, length, breadth):\n",
    "        self.length = length\n",
    "        self.breadth = breadth\n",
    "\n",
    "    def area(self):\n",
    "        return self.length * self.breadth\n",
    "\n",
    "    def perimeter(self):\n",
    "        return 2 * (self.length + self.breadth)\n",
    "\n",
    "\n",
    "class Square(Rectangle):\n",
    "    def __init__(self, side):\n",
    "        super().__init__(side, side)\n",
    "\n",
    "r = Rectangle(6, 12)\n",
    "s = Square(4)\n",
    "\n",
    "print(\"Rectangle Details:\")\n",
    "print(\"Length:\", r.length)\n",
    "print(\"Breadth:\", r.breadth)\n",
    "print(\"Area:\", r.area())\n",
    "print(\"Perimeter:\", r.perimeter())\n",
    "\n",
    "print(\"\\nSquare Details:\")\n",
    "print(\"Side:\", s.length)\n",
    "print(\"Area:\", s.area())\n",
    "print(\"Perimeter:\", s.perimeter())"
   ]
  },
  {
   "cell_type": "markdown",
   "id": "c3731c63",
   "metadata": {},
   "source": [
    "**131. Now repeat the above example to print the area of 10 squares. Hint-Use array of\n",
    "objects**"
   ]
  },
  {
   "cell_type": "code",
   "execution_count": 66,
   "id": "3015c4fe",
   "metadata": {},
   "outputs": [
    {
     "name": "stdout",
     "output_type": "stream",
     "text": [
      "\n",
      "Square 1 Details:\n",
      "Side: 11\n",
      "Area: 121\n",
      "Perimeter: 44\n",
      "\n",
      "Square 2 Details:\n",
      "Side: 11\n",
      "Area: 121\n",
      "Perimeter: 44\n",
      "\n",
      "Square 3 Details:\n",
      "Side: 11\n",
      "Area: 121\n",
      "Perimeter: 44\n",
      "\n",
      "Square 4 Details:\n",
      "Side: 11\n",
      "Area: 121\n",
      "Perimeter: 44\n",
      "\n",
      "Square 5 Details:\n",
      "Side: 11\n",
      "Area: 121\n",
      "Perimeter: 44\n",
      "\n",
      "Square 6 Details:\n",
      "Side: 11\n",
      "Area: 121\n",
      "Perimeter: 44\n",
      "\n",
      "Square 7 Details:\n",
      "Side: 11\n",
      "Area: 121\n",
      "Perimeter: 44\n",
      "\n",
      "Square 8 Details:\n",
      "Side: 11\n",
      "Area: 121\n",
      "Perimeter: 44\n",
      "\n",
      "Square 9 Details:\n",
      "Side: 11\n",
      "Area: 121\n",
      "Perimeter: 44\n",
      "\n",
      "Square 10 Details:\n",
      "Side: 11\n",
      "Area: 121\n",
      "Perimeter: 44\n"
     ]
    }
   ],
   "source": [
    "class Rectangle:\n",
    "    def __init__(self, length, breadth):\n",
    "        self.length = length\n",
    "        self.breadth = breadth\n",
    "\n",
    "    def area(self):\n",
    "        return self.length * self.breadth\n",
    "\n",
    "    def perimeter(self):\n",
    "        return 2 * (self.length + self.breadth)\n",
    "\n",
    "\n",
    "class Square(Rectangle):\n",
    "    def __init__(self, side):\n",
    "        super().__init__(side, side)\n",
    "\n",
    "s = [Square(2), Square(3), Square(4), Square(5), Square(6),\n",
    "           Square(7), Square(8), Square(9), Square(10), Square(11)]\n",
    "\n",
    "for i, s in enumerate(s, start=1):\n",
    "    print(\"\\nSquare {} Details:\".format(i))\n",
    "    print(\"Side:\", square.length)\n",
    "    print(\"Area:\", square.area())\n",
    "    print(\"Perimeter:\", square.perimeter())"
   ]
  },
  {
   "cell_type": "markdown",
   "id": "a457110f",
   "metadata": {},
   "source": [
    "**132. Create a class named 'Shape' with a function to print \"This is a shape\". Then create\n",
    "two other classes named 'Rectangle' and 'Circle' inheriting the Shape class, both\n",
    "having a function to print \"This is rectangular shape\" and \"This is circular shape\"\n",
    "respectively. Create a subclass 'Square' of 'Rectangle' having a function to print\n",
    "\"Square is a rectangle\". Now call the function of the 'Shape' and the 'Rectangle'\n",
    "class by the object of the 'Square' class.**"
   ]
  },
  {
   "cell_type": "code",
   "execution_count": 69,
   "id": "3f7f1e9c",
   "metadata": {},
   "outputs": [],
   "source": [
    "class Shape:\n",
    "    def print_shape(self):\n",
    "        print(\"This is a shape\")\n",
    "\n",
    "class Rectangle(Shape):\n",
    "    def print_shape(self):\n",
    "        print(\"This is rectangular shape\")\n",
    "\n",
    "class Circle(Shape):\n",
    "    def print_shape(self):\n",
    "        print(\"This is circular shape\")\n",
    "\n",
    "class Square(Rectangle):\n",
    "    def print_shape(self):\n",
    "        super().print_shape()\n",
    "        print(\"Square is a rectangle\")\n",
    "\n",
    "square = Square()"
   ]
  },
  {
   "cell_type": "code",
   "execution_count": 71,
   "id": "8831a6ed",
   "metadata": {},
   "outputs": [
    {
     "name": "stdout",
     "output_type": "stream",
     "text": [
      "This is rectangular shape\n",
      "Square is a rectangle\n"
     ]
    }
   ],
   "source": [
    "square.print_shape()"
   ]
  },
  {
   "cell_type": "markdown",
   "id": "0ac35006",
   "metadata": {},
   "source": [
    "**133. Write a program containing a possible exception. Use a try block to throw it and a\n",
    "catch block to handle it properly.**"
   ]
  },
  {
   "cell_type": "code",
   "execution_count": 76,
   "id": "5972990a",
   "metadata": {},
   "outputs": [
    {
     "name": "stdout",
     "output_type": "stream",
     "text": [
      "Enter the first number : 2\n",
      "Enter the second number : 0\n",
      "Error: division by zero\n",
      "Cannot divide by zero.\n"
     ]
    }
   ],
   "source": [
    "def divide_numbers(a, b):\n",
    "    try:\n",
    "        result = a / b\n",
    "        return result\n",
    "    except ZeroDivisionError as e:\n",
    "        print(\"Error: {}\".format(e))\n",
    "        return None\n",
    "\n",
    "first = int(input(\"Enter the first number : \"))\n",
    "second = int(input(\"Enter the second number : \"))\n",
    "\n",
    "result = divide_numbers(first, second)\n",
    "\n",
    "if result is not None:\n",
    "    print(\"Result of division: {}\".format(result))\n",
    "else:\n",
    "    print(\"Cannot divide by zero.\")"
   ]
  },
  {
   "cell_type": "markdown",
   "id": "cd6572ff",
   "metadata": {},
   "source": [
    "**134. Write a program that illustrates the application of multiple catch statements.**"
   ]
  },
  {
   "cell_type": "code",
   "execution_count": 78,
   "id": "aefde828",
   "metadata": {},
   "outputs": [
    {
     "name": "stdout",
     "output_type": "stream",
     "text": [
      "Enter the numerator: 1\n",
      "Enter the denominator: 0\n",
      "Error: division by zero. Cannot divide by zero.\n",
      "This block always executes, whether an exception occurred or not.\n"
     ]
    }
   ],
   "source": [
    "def divide_numbers(a, b):\n",
    "    try:\n",
    "        result = a / b\n",
    "        return result\n",
    "    except ZeroDivisionError as e:\n",
    "        print(\"Error: {}. Cannot divide by zero.\".format(e))\n",
    "    except ValueError as e:\n",
    "        print(\"Error: {}. Please enter valid numeric values.\".format(e))\n",
    "    except Exception as e:\n",
    "        print(\"An unexpected error occurred: {}\".format(e))\n",
    "    finally:\n",
    "        print(\"This block always executes, whether an exception occurred or not.\")\n",
    "\n",
    "try:\n",
    "    first = int(input(\"Enter the numerator: \"))\n",
    "    second = int(input(\"Enter the denominator: \"))\n",
    "    result = divide_numbers(first, second)\n",
    "    if result is not None:\n",
    "        print(f\"Result of division: {result}\")\n",
    "except KeyboardInterrupt:\n",
    "    print(\"\\nProgram interrupted by the user.\")\n",
    "except Exception as e:\n",
    "    print(\"An unexpected error occurred outside the function: {}\".format(e))"
   ]
  },
  {
   "cell_type": "markdown",
   "id": "ce16f91b",
   "metadata": {},
   "source": [
    "**135. Write a program which uses catch(...) handler.**"
   ]
  },
  {
   "cell_type": "code",
   "execution_count": 80,
   "id": "ff61d906",
   "metadata": {},
   "outputs": [
    {
     "name": "stdout",
     "output_type": "stream",
     "text": [
      "An exception occurred: division by zero\n",
      "This block always executes, whether an exception occurred or not.\n"
     ]
    }
   ],
   "source": [
    "def example_function():\n",
    "    try:\n",
    "        result = 10 / 0\n",
    "        print(result)\n",
    "    except Exception as e:\n",
    "        print(\"An exception occurred: {}\".format(e))\n",
    "    finally:\n",
    "        print(\"This block always executes, whether an exception occurred or not.\")\n",
    "\n",
    "example_function()"
   ]
  },
  {
   "cell_type": "markdown",
   "id": "60278363",
   "metadata": {},
   "source": [
    "**136. Write a program that demonstrates how certain exception types are not allowed to\n",
    "be thrown.**"
   ]
  },
  {
   "cell_type": "code",
   "execution_count": 81,
   "id": "169675b3",
   "metadata": {},
   "outputs": [
    {
     "name": "stdout",
     "output_type": "stream",
     "text": [
      "Caught a SyntaxError: This is not allowed.\n"
     ]
    }
   ],
   "source": [
    "try:\n",
    "    raise SyntaxError(\"This is not allowed.\")\n",
    "except SyntaxError as e:\n",
    "    print(f\"Caught a SyntaxError: {e}\")\n",
    "except Exception as e:\n",
    "    print(f\"Caught an exception: {e}\")"
   ]
  },
  {
   "cell_type": "markdown",
   "id": "866ce5f6",
   "metadata": {},
   "source": [
    "**137. Write a program to demonstrate the concept of rethrowing an exception.**"
   ]
  },
  {
   "cell_type": "code",
   "execution_count": 83,
   "id": "863b05c6",
   "metadata": {},
   "outputs": [
    {
     "name": "stdout",
     "output_type": "stream",
     "text": [
      "Caught a ZeroDivisionError: division by zero\n",
      "Caught a ValueError: Custom error message\n"
     ]
    }
   ],
   "source": [
    "def risky_function():\n",
    "    try:\n",
    "        result = 10 / 0\n",
    "        print(result)\n",
    "    except ZeroDivisionError as e:\n",
    "        print(\"Caught a ZeroDivisionError: {}\".format(e))\n",
    "        raise ValueError(\"Custom error message\") from e\n",
    "\n",
    "try:\n",
    "    risky_function()\n",
    "except ValueError as e:\n",
    "    print(\"Caught a ValueError: {}\".format(e))\n",
    "except ZeroDivisionError as e:\n",
    "    print(\"This should not be reached due to rethrowing: {}\".format(e))\n",
    "except Exception as e:\n",
    "    print(\"Caught a generic exception: {}\".format(e))"
   ]
  },
  {
   "cell_type": "markdown",
   "id": "14db12a6",
   "metadata": {},
   "source": [
    "**138. Write a program with the following:\n",
    "(a) A function to read two double type numbers from keyboard\n",
    "(b) A function to calculate the division of these two numbers\n",
    "(c) A try block to throw an exception when a wrong type of data is keyed in\n",
    "(d) A try block to detect and throw an exception if the condition \"divide-by-zero\"\n",
    "occurs(e) Appropriate catch block to handle the exceptions thrown**"
   ]
  },
  {
   "cell_type": "code",
   "execution_count": 84,
   "id": "9b3804c6",
   "metadata": {},
   "outputs": [
    {
     "name": "stdout",
     "output_type": "stream",
     "text": [
      "Enter a double type number: 2\n",
      "Enter a double type number: 7\n",
      "The result of division is: 0.2857142857142857\n"
     ]
    }
   ],
   "source": [
    "def read_double():\n",
    "    try:\n",
    "        num = float(input(\"Enter a double type number: \"))\n",
    "        return num\n",
    "    except ValueError:\n",
    "        print(\"Invalid input. Please enter a valid double type number.\")\n",
    "        raise\n",
    "\n",
    "def calculate_division(num1, num2):\n",
    "    try:\n",
    "        result = num1 / num2\n",
    "        return result\n",
    "    except ZeroDivisionError:\n",
    "        print(\"Error: Cannot divide by zero.\")\n",
    "        raise\n",
    "\n",
    "try:\n",
    "    numerator = read_double()\n",
    "    denominator = read_double()\n",
    "\n",
    "    result = calculate_division(numerator, denominator)\n",
    "    print(f\"The result of division is: {result}\")\n",
    "\n",
    "except Exception as e:\n",
    "    print(f\"An unexpected error occurred: {e}\")"
   ]
  },
  {
   "cell_type": "markdown",
   "id": "af027086",
   "metadata": {},
   "source": [
    "**139. Write a main program that calls a deeply nested function containing an exception\n",
    "Incorporate necessary exception handling mechanism.**"
   ]
  },
  {
   "cell_type": "code",
   "execution_count": 85,
   "id": "737a8f45",
   "metadata": {},
   "outputs": [
    {
     "name": "stdout",
     "output_type": "stream",
     "text": [
      "Error: Cannot divide by zero.\n",
      "An unexpected error occurred in the main program: division by zero\n"
     ]
    }
   ],
   "source": [
    "def deep_nested_function():\n",
    "    try:\n",
    "        result = 10 / 0\n",
    "        print(result)\n",
    "    except ZeroDivisionError:\n",
    "        print(\"Error: Cannot divide by zero.\")\n",
    "        raise\n",
    "\n",
    "def main_program():\n",
    "    try:\n",
    "        deep_nested_function()\n",
    "    except Exception as e:\n",
    "        print(\"An unexpected error occurred in the main program: {}\".format(e))\n",
    "\n",
    "main_program()"
   ]
  },
  {
   "cell_type": "code",
   "execution_count": null,
   "id": "39e4c4bf",
   "metadata": {},
   "outputs": [],
   "source": []
  }
 ],
 "metadata": {
  "kernelspec": {
   "display_name": "Python 3 (ipykernel)",
   "language": "python",
   "name": "python3"
  },
  "language_info": {
   "codemirror_mode": {
    "name": "ipython",
    "version": 3
   },
   "file_extension": ".py",
   "mimetype": "text/x-python",
   "name": "python",
   "nbconvert_exporter": "python",
   "pygments_lexer": "ipython3",
   "version": "3.11.5"
  }
 },
 "nbformat": 4,
 "nbformat_minor": 5
}
